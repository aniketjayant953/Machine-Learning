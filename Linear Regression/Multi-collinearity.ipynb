{
 "cells": [
  {
   "cell_type": "code",
   "execution_count": 1,
   "metadata": {
    "colab": {
     "base_uri": "https://localhost:8080/"
    },
    "id": "knMq2fv0u41U",
    "outputId": "4a5cc832-344e-4147-af5d-175a08568003"
   },
   "outputs": [
    {
     "data": {
      "text/plain": [
       "array([[ 1. ,  1. ,  1.2],\n",
       "       [ 1. ,  2. ,  2.1],\n",
       "       [ 1. ,  3. ,  3.1],\n",
       "       [ 1. ,  4. ,  4.1],\n",
       "       [ 1. ,  5. ,  5. ],\n",
       "       [ 1. ,  6. ,  6. ],\n",
       "       [ 1. ,  7. ,  7. ],\n",
       "       [ 1. ,  8. ,  8. ],\n",
       "       [ 1. ,  9. ,  9.1],\n",
       "       [ 1. , 10. , 10.2]])"
      ]
     },
     "execution_count": 1,
     "metadata": {},
     "output_type": "execute_result"
    }
   ],
   "source": [
    "import numpy as np\n",
    "arr = np.array([[1,1,1,1,1,1,1,1,1,1],[1, 2, 3, 4, 5, 6, 7, 8, 9, 10],[1.2, 2.1, 3.1, 4.1, 5.0, 6.0, 7.0, 8.0, 9.1, 10.2]]).T\n",
    "arr"
   ]
  },
  {
   "cell_type": "code",
   "execution_count": null,
   "metadata": {
    "colab": {
     "base_uri": "https://localhost:8080/"
    },
    "id": "8XYYvVv0I1Rh",
    "outputId": "52f0c7be-3365-42fe-a00b-0128c1270231"
   },
   "outputs": [
    {
     "data": {
      "text/plain": [
       "29104.19736331761"
      ]
     },
     "execution_count": 14,
     "metadata": {},
     "output_type": "execute_result"
    }
   ],
   "source": [
    "np.linalg.cond(np.dot(arr.T,arr))"
   ]
  },
  {
   "cell_type": "code",
   "execution_count": null,
   "metadata": {
    "colab": {
     "base_uri": "https://localhost:8080/"
    },
    "id": "IG4PIxIgW6P9",
    "outputId": "0d60008a-c79b-4268-e2cc-71d39f738509"
   },
   "outputs": [
    {
     "data": {
      "text/plain": [
       "array([[  0.67713004,   1.89686099,  -1.97309417],\n",
       "       [  1.89686099,  18.3309417 , -18.40807175],\n",
       "       [ -1.97309417, -18.40807175,  18.49775785]])"
      ]
     },
     "execution_count": 9,
     "metadata": {},
     "output_type": "execute_result"
    }
   ],
   "source": [
    "np.linalg.inv(np.dot(arr.T,arr))"
   ]
  },
  {
   "cell_type": "code",
   "execution_count": null,
   "metadata": {
    "colab": {
     "base_uri": "https://localhost:8080/"
    },
    "id": "XM8w_Zb8XFTy",
    "outputId": "fadce375-535e-441d-a14f-3fdcd2297966"
   },
   "outputs": [
    {
     "data": {
      "text/plain": [
       "array([[  0.579715  ,   1.55493605,  -1.62140011],\n",
       "       [  1.55493605,  24.45470752, -24.42659041],\n",
       "       [ -1.62140011, -24.42659041,  24.41073715]])"
      ]
     },
     "execution_count": 14,
     "metadata": {},
     "output_type": "execute_result"
    }
   ],
   "source": [
    "arr = np.array([[1,1,1,1,1,1,1,1,1,1],[1.1, 2, 3, 4, 5, 6, 7, 8, 9, 10],[1.2, 2.1, 3.1, 4.1, 5.0, 6.0, 7.0, 8.0, 9.1, 10.2]]).T\n",
    "np.linalg.inv(np.dot(arr.T,arr))"
   ]
  },
  {
   "cell_type": "code",
   "execution_count": null,
   "metadata": {
    "colab": {
     "base_uri": "https://localhost:8080/"
    },
    "id": "cGenHSBFXtXJ",
    "outputId": "f4112dae-dc77-4850-f627-37e8ec924742"
   },
   "outputs": [
    {
     "data": {
      "text/plain": [
       "array([[ 0.46684896, -0.06359872, -0.00341803],\n",
       "       [-0.06359872,  0.06375331, -0.05752395],\n",
       "       [-0.00341803, -0.05752395,  0.06408812]])"
      ]
     },
     "execution_count": 10,
     "metadata": {},
     "output_type": "execute_result"
    }
   ],
   "source": [
    "arr = np.array([[1,1,1,1,1,1,1,1,1,1],[1, 2, 3, 4, 5, 6, 7, 8, 9, 10],[2.4, 0.7, 4.3, 3.5, 1.6, 5.1, 6.9, 7.5, 8.1, 9.8]]).T\n",
    "np.linalg.inv(np.dot(arr.T,arr))"
   ]
  },
  {
   "cell_type": "code",
   "execution_count": null,
   "metadata": {
    "colab": {
     "base_uri": "https://localhost:8080/"
    },
    "id": "fCbxXeKmJCvh",
    "outputId": "7c2cc3ff-580f-4ed7-a867-b10b83160ff0"
   },
   "outputs": [
    {
     "data": {
      "text/plain": [
       "341.04169922403804"
      ]
     },
     "execution_count": 12,
     "metadata": {},
     "output_type": "execute_result"
    }
   ],
   "source": [
    "arr = np.array([[ 0.46684896, -0.06359872, -0.00341803],\n",
    "       [-0.06359872,  0.06375331, -0.05752395],\n",
    "       [-0.00341803, -0.05752395,  0.06408812]])\n",
    "np.linalg.cond(arr)"
   ]
  },
  {
   "cell_type": "code",
   "execution_count": null,
   "metadata": {
    "colab": {
     "base_uri": "https://localhost:8080/"
    },
    "id": "4ZeoGzaBZOnL",
    "outputId": "7b88b750-1353-409d-ddf3-d1df949b51f2"
   },
   "outputs": [
    {
     "data": {
      "text/plain": [
       "array([[ 0.47202303, -0.06705466, -0.00051139],\n",
       "       [-0.06705466,  0.06552638, -0.05891698],\n",
       "       [-0.00051139, -0.05891698,  0.06515911]])"
      ]
     },
     "execution_count": 16,
     "metadata": {},
     "output_type": "execute_result"
    }
   ],
   "source": [
    "arr = np.array([[1,1,1,1,1,1,1,1,1,1],[1.1, 2, 3, 4, 5, 6, 7, 8, 9, 10],[2.4, 0.7, 4.3, 3.5, 1.6, 5.1, 6.9, 7.5, 8.1, 9.8]]).T\n",
    "np.linalg.inv(np.dot(arr.T,arr))"
   ]
  },
  {
   "cell_type": "markdown",
   "metadata": {
    "id": "m_pP7U8orUtd"
   },
   "source": [
    "### Condition Number"
   ]
  },
  {
   "cell_type": "code",
   "execution_count": 10,
   "metadata": {
    "colab": {
     "base_uri": "https://localhost:8080/"
    },
    "id": "JUSJ0AZzq5Rh",
    "outputId": "2277163a-c2d0-47b2-8839-04930a3382e4"
   },
   "outputs": [
    {
     "name": "stdout",
     "output_type": "stream",
     "text": [
      "Condition Number: 14.933034373659265\n"
     ]
    }
   ],
   "source": [
    "A = np.array([[1, 2],\n",
    "              [3, 4]])\n",
    "\n",
    "condition_number = np.linalg.cond(A)\n",
    "print(\"Condition Number:\", condition_number)"
   ]
  },
  {
   "cell_type": "markdown",
   "metadata": {
    "id": "UhxTce1rjJc7"
   },
   "source": [
    "### 1. Correlation"
   ]
  },
  {
   "cell_type": "code",
   "execution_count": 13,
   "metadata": {
    "colab": {
     "base_uri": "https://localhost:8080/",
     "height": 206
    },
    "id": "aK1iZfxrjLPG",
    "outputId": "12d34c8f-7b9b-4fc3-ab80-3d91f3d1a7ae"
   },
   "outputs": [
    {
     "data": {
      "text/html": [
       "<div>\n",
       "<style scoped>\n",
       "    .dataframe tbody tr th:only-of-type {\n",
       "        vertical-align: middle;\n",
       "    }\n",
       "\n",
       "    .dataframe tbody tr th {\n",
       "        vertical-align: top;\n",
       "    }\n",
       "\n",
       "    .dataframe thead th {\n",
       "        text-align: right;\n",
       "    }\n",
       "</style>\n",
       "<table border=\"1\" class=\"dataframe\">\n",
       "  <thead>\n",
       "    <tr style=\"text-align: right;\">\n",
       "      <th></th>\n",
       "      <th>TV</th>\n",
       "      <th>Radio</th>\n",
       "      <th>Newspaper</th>\n",
       "      <th>Sales</th>\n",
       "    </tr>\n",
       "  </thead>\n",
       "  <tbody>\n",
       "    <tr>\n",
       "      <th>0</th>\n",
       "      <td>230.1</td>\n",
       "      <td>37.8</td>\n",
       "      <td>69.2</td>\n",
       "      <td>22.1</td>\n",
       "    </tr>\n",
       "    <tr>\n",
       "      <th>1</th>\n",
       "      <td>44.5</td>\n",
       "      <td>39.3</td>\n",
       "      <td>45.1</td>\n",
       "      <td>10.4</td>\n",
       "    </tr>\n",
       "    <tr>\n",
       "      <th>2</th>\n",
       "      <td>17.2</td>\n",
       "      <td>45.9</td>\n",
       "      <td>69.3</td>\n",
       "      <td>9.3</td>\n",
       "    </tr>\n",
       "    <tr>\n",
       "      <th>3</th>\n",
       "      <td>151.5</td>\n",
       "      <td>41.3</td>\n",
       "      <td>58.5</td>\n",
       "      <td>18.5</td>\n",
       "    </tr>\n",
       "    <tr>\n",
       "      <th>4</th>\n",
       "      <td>180.8</td>\n",
       "      <td>10.8</td>\n",
       "      <td>58.4</td>\n",
       "      <td>12.9</td>\n",
       "    </tr>\n",
       "  </tbody>\n",
       "</table>\n",
       "</div>"
      ],
      "text/plain": [
       "      TV  Radio  Newspaper  Sales\n",
       "0  230.1   37.8       69.2   22.1\n",
       "1   44.5   39.3       45.1   10.4\n",
       "2   17.2   45.9       69.3    9.3\n",
       "3  151.5   41.3       58.5   18.5\n",
       "4  180.8   10.8       58.4   12.9"
      ]
     },
     "execution_count": 13,
     "metadata": {},
     "output_type": "execute_result"
    }
   ],
   "source": [
    "import pandas as pd\n",
    "import seaborn as sns\n",
    "\n",
    "df = pd.read_csv('https://raw.githubusercontent.com/justmarkham/scikit-learn-videos/master/data/Advertising.csv')\n",
    "df.drop(columns='Unnamed: 0',axis=1,inplace=True)\n",
    "df.head()"
   ]
  },
  {
   "cell_type": "code",
   "execution_count": 14,
   "metadata": {
    "colab": {
     "base_uri": "https://localhost:8080/",
     "height": 452
    },
    "id": "vnNy7HjLjQtd",
    "outputId": "611a4585-5d96-4c40-db3e-483af9a2e8f3"
   },
   "outputs": [
    {
     "data": {
      "text/plain": [
       "<AxesSubplot:>"
      ]
     },
     "execution_count": 14,
     "metadata": {},
     "output_type": "execute_result"
    },
    {
     "data": {
      "image/png": "[encoded data removed]",
      "text/plain": [
       "<Figure size 432x288 with 2 Axes>"
      ]
     },
     "metadata": {
      "needs_background": "light"
     },
     "output_type": "display_data"
    }
   ],
   "source": [
    "sns.heatmap(df.corr(),annot=True)"
   ]
  },
  {
   "cell_type": "markdown",
   "metadata": {
    "id": "FwwloLZYkzoH"
   },
   "source": [
    "### VIF"
   ]
  },
  {
   "cell_type": "code",
   "execution_count": 17,
   "metadata": {
    "id": "8VtcUYTvk08R"
   },
   "outputs": [],
   "source": [
    "from statsmodels.stats.outliers_influence import variance_inflation_factor\n",
    "\n",
    "vif = []\n",
    "\n",
    "for i in range(3):\n",
    "    vif.append(variance_inflation_factor(df.iloc[:,:3], i))"
   ]
  },
  {
   "cell_type": "code",
   "execution_count": 19,
   "metadata": {
    "colab": {
     "base_uri": "https://localhost:8080/",
     "height": 80
    },
    "id": "28SKdkiIk9wy",
    "outputId": "0c4ad3b1-dca7-45cf-b9dd-c6c95132bb8d"
   },
   "outputs": [
    {
     "data": {
      "text/html": [
       "<div>\n",
       "<style scoped>\n",
       "    .dataframe tbody tr th:only-of-type {\n",
       "        vertical-align: middle;\n",
       "    }\n",
       "\n",
       "    .dataframe tbody tr th {\n",
       "        vertical-align: top;\n",
       "    }\n",
       "\n",
       "    .dataframe thead th {\n",
       "        text-align: right;\n",
       "    }\n",
       "</style>\n",
       "<table border=\"1\" class=\"dataframe\">\n",
       "  <thead>\n",
       "    <tr style=\"text-align: right;\">\n",
       "      <th></th>\n",
       "      <th>TV</th>\n",
       "      <th>Radio</th>\n",
       "      <th>Newspaper</th>\n",
       "    </tr>\n",
       "  </thead>\n",
       "  <tbody>\n",
       "    <tr>\n",
       "      <th>vif</th>\n",
       "      <td>5.603259</td>\n",
       "      <td>3.140226</td>\n",
       "      <td>5.928228</td>\n",
       "    </tr>\n",
       "  </tbody>\n",
       "</table>\n",
       "</div>"
      ],
      "text/plain": [
       "           TV     Radio  Newspaper\n",
       "vif  5.603259  3.140226   5.928228"
      ]
     },
     "execution_count": 19,
     "metadata": {},
     "output_type": "execute_result"
    }
   ],
   "source": [
    "pd.DataFrame({'vif': vif}, index=df.columns[:3]).T"
   ]
  },
  {
   "cell_type": "code",
   "execution_count": null,
   "metadata": {
    "colab": {
     "base_uri": "https://localhost:8080/",
     "height": 174
    },
    "id": "XMd2IW3GlAl3",
    "outputId": "6b02f6f5-e28b-430e-d08a-b3f95ede169f"
   },
   "outputs": [
    {
     "data": {
      "text/html": [
       "\n",
       "  <div id=\"df-a449cdc6-fe25-4971-8128-e79f2b630379\">\n",
       "    <div class=\"colab-df-container\">\n",
       "      <div>\n",
       "<style scoped>\n",
       "    .dataframe tbody tr th:only-of-type {\n",
       "        vertical-align: middle;\n",
       "    }\n",
       "\n",
       "    .dataframe tbody tr th {\n",
       "        vertical-align: top;\n",
       "    }\n",
       "\n",
       "    .dataframe thead th {\n",
       "        text-align: right;\n",
       "    }\n",
       "</style>\n",
       "<table border=\"1\" class=\"dataframe\">\n",
       "  <thead>\n",
       "    <tr style=\"text-align: right;\">\n",
       "      <th></th>\n",
       "      <th>X1</th>\n",
       "      <th>X2</th>\n",
       "      <th>X3</th>\n",
       "      <th>y</th>\n",
       "    </tr>\n",
       "  </thead>\n",
       "  <tbody>\n",
       "    <tr>\n",
       "      <th>X1</th>\n",
       "      <td>1.000000</td>\n",
       "      <td>0.882948</td>\n",
       "      <td>-0.048636</td>\n",
       "      <td>0.148108</td>\n",
       "    </tr>\n",
       "    <tr>\n",
       "      <th>X2</th>\n",
       "      <td>0.882948</td>\n",
       "      <td>1.000000</td>\n",
       "      <td>-0.054696</td>\n",
       "      <td>0.165352</td>\n",
       "    </tr>\n",
       "    <tr>\n",
       "      <th>X3</th>\n",
       "      <td>-0.048636</td>\n",
       "      <td>-0.054696</td>\n",
       "      <td>1.000000</td>\n",
       "      <td>0.071536</td>\n",
       "    </tr>\n",
       "    <tr>\n",
       "      <th>y</th>\n",
       "      <td>0.148108</td>\n",
       "      <td>0.165352</td>\n",
       "      <td>0.071536</td>\n",
       "      <td>1.000000</td>\n",
       "    </tr>\n",
       "  </tbody>\n",
       "</table>\n",
       "</div>\n",
       "      <button class=\"colab-df-convert\" onclick=\"convertToInteractive('df-a449cdc6-fe25-4971-8128-e79f2b630379')\"\n",
       "              title=\"Convert this dataframe to an interactive table.\"\n",
       "              style=\"display:none;\">\n",
       "        \n",
       "  <svg xmlns=\"http://www.w3.org/2000/svg\" height=\"24px\"viewBox=\"0 0 24 24\"\n",
       "       width=\"24px\">\n",
       "    <path d=\"M0 0h24v24H0V0z\" fill=\"none\"/>\n",
       "    <path d=\"M18.56 5.44l.94 2.06.94-2.06 2.06-.94-2.06-.94-.94-2.06-.94 2.06-2.06.94zm-11 1L8.5 8.5l.94-2.06 2.06-.94-2.06-.94L8.5 2.5l-.94 2.06-2.06.94zm10 10l.94 2.06.94-2.06 2.06-.94-2.06-.94-.94-2.06-.94 2.06-2.06.94z\"/><path d=\"M17.41 7.96l-1.37-1.37c-.4-.4-.92-.59-1.43-.59-.52 0-1.04.2-1.43.59L10.3 9.45l-7.72 7.72c-.78.78-.78 2.05 0 2.83L4 21.41c.39.39.9.59 1.41.59.51 0 1.02-.2 1.41-.59l7.78-7.78 2.81-2.81c.8-.78.8-2.07 0-2.86zM5.41 20L4 18.59l7.72-7.72 1.47 1.35L5.41 20z\"/>\n",
       "  </svg>\n",
       "      </button>\n",
       "      \n",
       "  <style>\n",
       "    .colab-df-container {\n",
       "      display:flex;\n",
       "      flex-wrap:wrap;\n",
       "      gap: 12px;\n",
       "    }\n",
       "\n",
       "    .colab-df-convert {\n",
       "      background-color: #E8F0FE;\n",
       "      border: none;\n",
       "      border-radius: 50%;\n",
       "      cursor: pointer;\n",
       "      display: none;\n",
       "      fill: #1967D2;\n",
       "      height: 32px;\n",
       "      padding: 0 0 0 0;\n",
       "      width: 32px;\n",
       "    }\n",
       "\n",
       "    .colab-df-convert:hover {\n",
       "      background-color: #E2EBFA;\n",
       "      box-shadow: 0px 1px 2px rgba(60, 64, 67, 0.3), 0px 1px 3px 1px rgba(60, 64, 67, 0.15);\n",
       "      fill: #174EA6;\n",
       "    }\n",
       "\n",
       "    [theme=dark] .colab-df-convert {\n",
       "      background-color: #3B4455;\n",
       "      fill: #D2E3FC;\n",
       "    }\n",
       "\n",
       "    [theme=dark] .colab-df-convert:hover {\n",
       "      background-color: #434B5C;\n",
       "      box-shadow: 0px 1px 3px 1px rgba(0, 0, 0, 0.15);\n",
       "      filter: drop-shadow(0px 1px 2px rgba(0, 0, 0, 0.3));\n",
       "      fill: #FFFFFF;\n",
       "    }\n",
       "  </style>\n",
       "\n",
       "      <script>\n",
       "        const buttonEl =\n",
       "          document.querySelector('#df-a449cdc6-fe25-4971-8128-e79f2b630379 button.colab-df-convert');\n",
       "        buttonEl.style.display =\n",
       "          google.colab.kernel.accessAllowed ? 'block' : 'none';\n",
       "\n",
       "        async function convertToInteractive(key) {\n",
       "          const element = document.querySelector('#df-a449cdc6-fe25-4971-8128-e79f2b630379');\n",
       "          const dataTable =\n",
       "            await google.colab.kernel.invokeFunction('convertToInteractive',\n",
       "                                                     [key], {});\n",
       "          if (!dataTable) return;\n",
       "\n",
       "          const docLinkHtml = 'Like what you see? Visit the ' +\n",
       "            '<a target=\"_blank\" href=https://colab.research.google.com/notebooks/data_table.ipynb>data table notebook</a>'\n",
       "            + ' to learn more about interactive tables.';\n",
       "          element.innerHTML = '';\n",
       "          dataTable['output_type'] = 'display_data';\n",
       "          await google.colab.output.renderOutput(dataTable, element);\n",
       "          const docLink = document.createElement('div');\n",
       "          docLink.innerHTML = docLinkHtml;\n",
       "          element.appendChild(docLink);\n",
       "        }\n",
       "      </script>\n",
       "    </div>\n",
       "  </div>\n",
       "  "
      ],
      "text/plain": [
       "          X1        X2        X3         y\n",
       "X1  1.000000  0.882948 -0.048636  0.148108\n",
       "X2  0.882948  1.000000 -0.054696  0.165352\n",
       "X3 -0.048636 -0.054696  1.000000  0.071536\n",
       "y   0.148108  0.165352  0.071536  1.000000"
      ]
     },
     "execution_count": 16,
     "metadata": {},
     "output_type": "execute_result"
    }
   ],
   "source": [
    "import numpy as np\n",
    "import pandas as pd\n",
    "import statsmodels.api as sm\n",
    "from sklearn.datasets import make_regression\n",
    "\n",
    "# Generate a synthetic dataset with multicollinearity\n",
    "np.random.seed(42)\n",
    "X, y = make_regression(n_samples=100, n_features=3, noise=0.5, random_state=42)\n",
    "X[:, 1] = X[:, 0] + 0.5 * np.random.normal(size=100)  # Introduce multicollinearity between columns 0 and 1\n",
    "\n",
    "# Convert data to a pandas DataFrame\n",
    "data = pd.DataFrame(X, columns=['X1', 'X2', 'X3'])\n",
    "data['y'] = y\n",
    "\n",
    "data.corr()"
   ]
  },
  {
   "cell_type": "code",
   "execution_count": null,
   "metadata": {
    "colab": {
     "base_uri": "https://localhost:8080/"
    },
    "id": "5onRjzh0KoiS",
    "outputId": "f4dcfac6-e2ac-44a0-b14c-4e8336ef8516"
   },
   "outputs": [
    {
     "name": "stdout",
     "output_type": "stream",
     "text": [
      "Regression summary for the model with all predictors:\n",
      "                            OLS Regression Results                            \n",
      "==============================================================================\n",
      "Dep. Variable:                      y   R-squared:                       0.034\n",
      "Model:                            OLS   Adj. R-squared:                  0.004\n",
      "Method:                 Least Squares   F-statistic:                     1.122\n",
      "Date:                Mon, 08 May 2023   Prob (F-statistic):              0.344\n",
      "Time:                        16:21:33   Log-Likelihood:                -581.96\n",
      "No. Observations:                 100   AIC:                             1172.\n",
      "Df Residuals:                      96   BIC:                             1182.\n",
      "Df Model:                           3                                         \n",
      "Covariance Type:            nonrobust                                         \n",
      "==============================================================================\n",
      "                 coef    std err          t      P>|t|      [0.025      0.975]\n",
      "------------------------------------------------------------------------------\n",
      "const          5.6185      8.572      0.655      0.514     -11.397      22.634\n",
      "X1             0.9804     21.591      0.045      0.964     -41.877      43.838\n",
      "X2            13.9157     18.451      0.754      0.453     -22.710      50.542\n",
      "X3             6.8796      8.552      0.804      0.423     -10.095      23.854\n",
      "==============================================================================\n",
      "Omnibus:                        8.100   Durbin-Watson:                   2.070\n",
      "Prob(Omnibus):                  0.017   Jarque-Bera (JB):                8.233\n",
      "Skew:                           0.531   Prob(JB):                       0.0163\n",
      "Kurtosis:                       3.921   Cond. No.                         4.13\n",
      "==============================================================================\n",
      "\n",
      "Notes:\n",
      "[1] Standard Errors assume that the covariance matrix of the errors is correctly specified.\n",
      "\n",
      "Regression summary for the model with reduced predictors (X1 and X3):\n",
      "                            OLS Regression Results                            \n",
      "==============================================================================\n",
      "Dep. Variable:                      y   R-squared:                       0.028\n",
      "Model:                            OLS   Adj. R-squared:                  0.008\n",
      "Method:                 Least Squares   F-statistic:                     1.405\n",
      "Date:                Mon, 08 May 2023   Prob (F-statistic):              0.250\n",
      "Time:                        16:21:33   Log-Likelihood:                -582.25\n",
      "No. Observations:                 100   AIC:                             1171.\n",
      "Df Residuals:                      97   BIC:                             1178.\n",
      "Df Model:                           2                                         \n",
      "Covariance Type:            nonrobust                                         \n",
      "==============================================================================\n",
      "                 coef    std err          t      P>|t|      [0.025      0.975]\n",
      "------------------------------------------------------------------------------\n",
      "const          4.8245      8.488      0.568      0.571     -12.023      21.672\n",
      "X1            15.3528     10.126      1.516      0.133      -4.744      35.450\n",
      "X3             6.7179      8.530      0.788      0.433     -10.212      23.647\n",
      "==============================================================================\n",
      "Omnibus:                        8.800   Durbin-Watson:                   2.077\n",
      "Prob(Omnibus):                  0.012   Jarque-Bera (JB):                9.219\n",
      "Skew:                           0.554   Prob(JB):                      0.00996\n",
      "Kurtosis:                       3.992   Cond. No.                         1.35\n",
      "==============================================================================\n",
      "\n",
      "Notes:\n",
      "[1] Standard Errors assume that the covariance matrix of the errors is correctly specified.\n"
     ]
    }
   ],
   "source": [
    "# Add a constant term to the predictor variables\n",
    "data_with_constant_all = sm.add_constant(data[['X1', 'X2', 'X3']])\n",
    "data_with_constant_reduced = sm.add_constant(data[['X1', 'X3']])\n",
    "\n",
    "# Create and fit an OLS model using all three predictor variables\n",
    "model_all = sm.OLS(data['y'], data_with_constant_all).fit()\n",
    "\n",
    "# Print the summary for the model with all predictors\n",
    "print(\"Regression summary for the model with all predictors:\")\n",
    "print(model_all.summary())\n",
    "\n",
    "# Create and fit an OLS model using only X1 and X3 (removing the highly correlated variable X2)\n",
    "model_reduced = sm.OLS(data['y'], data_with_constant_reduced).fit()\n",
    "\n",
    "# Print the summary for the model with reduced predictors (X1 and X3)\n",
    "print(\"\\nRegression summary for the model with reduced predictors (X1 and X3):\")\n",
    "print(model_reduced.summary())\n"
   ]
  },
  {
   "cell_type": "code",
   "execution_count": null,
   "metadata": {
    "colab": {
     "base_uri": "https://localhost:8080/"
    },
    "id": "zXa3ulJHAIvL",
    "outputId": "531545c8-1dd8-4daa-ce8a-009deddfba03"
   },
   "outputs": [
    {
     "name": "stdout",
     "output_type": "stream",
     "text": [
      "Correlation matrix:\n",
      "           X1        X2        X3         y\n",
      "X1  1.000000  0.882948 -0.048636  0.148108\n",
      "X2  0.882948  1.000000 -0.054696  0.165352\n",
      "X3 -0.048636 -0.054696  1.000000  0.071536\n",
      "y   0.148108  0.165352  0.071536  1.000000\n",
      "Regression summary for the model with all predictors:\n",
      "                            OLS Regression Results                            \n",
      "==============================================================================\n",
      "Dep. Variable:                      y   R-squared:                       0.034\n",
      "Model:                            OLS   Adj. R-squared:                  0.004\n",
      "Method:                 Least Squares   F-statistic:                     1.122\n",
      "Date:                Mon, 08 May 2023   Prob (F-statistic):              0.344\n",
      "Time:                        11:07:58   Log-Likelihood:                -581.96\n",
      "No. Observations:                 100   AIC:                             1172.\n",
      "Df Residuals:                      96   BIC:                             1182.\n",
      "Df Model:                           3                                         \n",
      "Covariance Type:            nonrobust                                         \n",
      "==============================================================================\n",
      "                 coef    std err          t      P>|t|      [0.025      0.975]\n",
      "------------------------------------------------------------------------------\n",
      "const          5.6185      8.572      0.655      0.514     -11.397      22.634\n",
      "X1             0.9804     21.591      0.045      0.964     -41.877      43.838\n",
      "X2            13.9157     18.451      0.754      0.453     -22.710      50.542\n",
      "X3             6.8796      8.552      0.804      0.423     -10.095      23.854\n",
      "==============================================================================\n",
      "Omnibus:                        8.100   Durbin-Watson:                   2.070\n",
      "Prob(Omnibus):                  0.017   Jarque-Bera (JB):                8.233\n",
      "Skew:                           0.531   Prob(JB):                       0.0163\n",
      "Kurtosis:                       3.921   Cond. No.                         4.13\n",
      "==============================================================================\n",
      "\n",
      "Notes:\n",
      "[1] Standard Errors assume that the covariance matrix of the errors is correctly specified.\n",
      "\n",
      "Regression summary for the model with combined predictors (X1_X2_combined and X3):\n",
      "                            OLS Regression Results                            \n",
      "==============================================================================\n",
      "Dep. Variable:                      y   R-squared:                       0.033\n",
      "Model:                            OLS   Adj. R-squared:                  0.013\n",
      "Method:                 Least Squares   F-statistic:                     1.643\n",
      "Date:                Mon, 08 May 2023   Prob (F-statistic):              0.199\n",
      "Time:                        11:07:58   Log-Likelihood:                -582.02\n",
      "No. Observations:                 100   AIC:                             1170.\n",
      "Df Residuals:                      97   BIC:                             1178.\n",
      "Df Model:                           2                                         \n",
      "Covariance Type:            nonrobust                                         \n",
      "==================================================================================\n",
      "                     coef    std err          t      P>|t|      [0.025      0.975]\n",
      "----------------------------------------------------------------------------------\n",
      "const              5.2059      8.443      0.617      0.539     -11.552      21.963\n",
      "X1_X2_combined    15.9730      9.594      1.665      0.099      -3.068      35.014\n",
      "X3                 6.8469      8.512      0.804      0.423     -10.047      23.740\n",
      "==============================================================================\n",
      "Omnibus:                        8.244   Durbin-Watson:                   2.077\n",
      "Prob(Omnibus):                  0.016   Jarque-Bera (JB):                8.431\n",
      "Skew:                           0.536   Prob(JB):                       0.0148\n",
      "Kurtosis:                       3.935   Cond. No.                         1.27\n",
      "==============================================================================\n",
      "\n",
      "Notes:\n",
      "[1] Standard Errors assume that the covariance matrix of the errors is correctly specified.\n"
     ]
    }
   ],
   "source": [
    "import numpy as np\n",
    "import pandas as pd\n",
    "import statsmodels.api as sm\n",
    "from sklearn.datasets import make_regression\n",
    "\n",
    "# Generate a synthetic dataset with multicollinearity\n",
    "np.random.seed(42)\n",
    "X, y = make_regression(n_samples=100, n_features=3, noise=0.5, random_state=42)\n",
    "X[:, 1] = X[:, 0] + 0.5 * np.random.normal(size=100)  # Introduce multicollinearity between columns 0 and 1\n",
    "\n",
    "# Convert data to a pandas DataFrame\n",
    "data = pd.DataFrame(X, columns=['X1', 'X2', 'X3'])\n",
    "data['y'] = y\n",
    "\n",
    "# Calculate correlation matrix\n",
    "corr_matrix = data.corr()\n",
    "print(\"Correlation matrix:\\n\", corr_matrix)\n",
    "\n",
    "# Combine the correlated variables X1 and X2 by taking their average\n",
    "data['X1_X2_combined'] = (data['X1'] + data['X2']) / 2\n",
    "\n",
    "# Add a constant term to the predictor variables\n",
    "data_with_constant_all = sm.add_constant(data[['X1', 'X2', 'X3']])\n",
    "data_with_constant_combined = sm.add_constant(data[['X1_X2_combined', 'X3']])\n",
    "\n",
    "# Create and fit an OLS model using all three predictor variables\n",
    "model_all = sm.OLS(data['y'], data_with_constant_all).fit()\n",
    "\n",
    "# Print the summary for the model with all predictors\n",
    "print(\"Regression summary for the model with all predictors:\")\n",
    "print(model_all.summary())\n",
    "\n",
    "# Create and fit an OLS model using the combined variable and X3\n",
    "model_combined = sm.OLS(data['y'], data_with_constant_combined).fit()\n",
    "\n",
    "# Print the summary for the model with combined predictors (X1_X2_combined and X3)\n",
    "print(\"\\nRegression summary for the model with combined predictors (X1_X2_combined and X3):\")\n",
    "print(model_combined.summary())\n"
   ]
  },
  {
   "cell_type": "markdown",
   "metadata": {
    "id": "hGMyLvp-ED0x"
   },
   "source": [
    "### Partial Least Regression"
   ]
  },
  {
   "cell_type": "code",
   "execution_count": null,
   "metadata": {
    "colab": {
     "base_uri": "https://localhost:8080/"
    },
    "id": "9oN0LHzIEF_x",
    "outputId": "984928e2-c4eb-4782-d417-fe5c02e171a1"
   },
   "outputs": [
    {
     "name": "stdout",
     "output_type": "stream",
     "text": [
      "Mean squared error of PLS model: 7359.987203343638\n"
     ]
    }
   ],
   "source": [
    "import numpy as np\n",
    "import pandas as pd\n",
    "from sklearn.datasets import make_regression\n",
    "from sklearn.model_selection import train_test_split\n",
    "from sklearn.metrics import mean_squared_error\n",
    "from sklearn.cross_decomposition import PLSRegression\n",
    "\n",
    "# Generate a synthetic dataset with multicollinearity\n",
    "np.random.seed(42)\n",
    "X, y = make_regression(n_samples=100, n_features=3, noise=0.5, random_state=42)\n",
    "X[:, 1] = X[:, 0] + 0.5 * np.random.normal(size=100)  # Introduce multicollinearity between columns 0 and 1\n",
    "\n",
    "# Convert data to a pandas DataFrame\n",
    "data = pd.DataFrame(X, columns=['X1', 'X2', 'X3'])\n",
    "data['y'] = y\n",
    "\n",
    "# Split the dataset into training and testing sets\n",
    "X_train, X_test, y_train, y_test = train_test_split(data[['X1', 'X2', 'X3']], data['y'], test_size=0.2, random_state=42)\n",
    "\n",
    "# Create a PLS model with 2 components\n",
    "pls_model = PLSRegression(n_components=2)\n",
    "\n",
    "# Fit the PLS model using the training data\n",
    "pls_model.fit(X_train, y_train)\n",
    "\n",
    "# Predict the output using the test data\n",
    "y_pred = pls_model.predict(X_test)\n",
    "\n",
    "# Calculate the mean squared error of the predictions\n",
    "mse = mean_squared_error(y_test, y_pred)\n",
    "print(\"Mean squared error of PLS model:\", mse)\n"
   ]
  },
  {
   "cell_type": "code",
   "execution_count": null,
   "metadata": {
    "id": "PaTVGgZAEGiy"
   },
   "outputs": [],
   "source": []
  }
 ],
 "metadata": {
  "colab": {
   "provenance": [],
   "toc_visible": true
  },
  "kernelspec": {
   "display_name": "Python 3 (ipykernel)",
   "language": "python",
   "name": "python3"
  },
  "language_info": {
   "codemirror_mode": {
    "name": "ipython",
    "version": 3
   },
   "file_extension": ".py",
   "mimetype": "text/x-python",
   "name": "python",
   "nbconvert_exporter": "python",
   "pygments_lexer": "ipython3",
   "version": "3.9.12"
  }
 },
 "nbformat": 4,
 "nbformat_minor": 1
}
