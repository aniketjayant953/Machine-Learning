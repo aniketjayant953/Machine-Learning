{
 "cells": [
  {
   "cell_type": "markdown",
   "id": "9ff172d7",
   "metadata": {},
   "source": [
    "# MeshGrids"
   ]
  },
  {
   "cell_type": "markdown",
   "id": "5d0ce8a5",
   "metadata": {},
   "source": [
    "Let's say we have 2 input arrays arr1 = [-4 -3 -2 -1 0 1 2 3 4] and arr2 = [-5 -4 -3 -2 -1 0 1 2 3 4 5]. We can easily generate a 99\n",
    "points (9*11) grid/co-ordinate system using these 2 arrays using the np.meshgrid()"
   ]
  },
  {
   "cell_type": "markdown",
   "id": "4741b039",
   "metadata": {},
   "source": [
    "## Creating the Sample Meshgrid"
   ]
  },
  {
   "cell_type": "code",
   "execution_count": 1,
   "id": "9b49ee2e",
   "metadata": {},
   "outputs": [
    {
     "data": {
      "text/plain": [
       "(4, 3)"
      ]
     },
     "execution_count": 1,
     "metadata": {},
     "output_type": "execute_result"
    }
   ],
   "source": [
    "import numpy as np\n",
    "\n",
    "x = np.array([1,2,3])\n",
    "y = np.array([4,5,6,7])\n",
    "\n",
    "XX, YY = np.meshgrid(x,y)\n",
    "\n",
    "XX.shape\n",
    "YY.shape"
   ]
  },
  {
   "cell_type": "markdown",
   "id": "fe7751d1",
   "metadata": {},
   "source": [
    "## Purpose of Meshgrid\n",
    "\n",
    "Meshgrid is very useful to evaluate fuction on a grid. We can apply any function to the points of a meshgrid to plot a function"
   ]
  },
  {
   "cell_type": "markdown",
   "id": "afb29cd1",
   "metadata": {},
   "source": [
    "## Plotting a function using Meshgrid"
   ]
  },
  {
   "cell_type": "code",
   "execution_count": 6,
   "id": "f91b09e7",
   "metadata": {},
   "outputs": [],
   "source": [
    "x = np.linspace(-40,40,1000) # more the point finer the details (1000 points)\n",
    "y = np.linspace(-50,50,900)\n",
    "\n",
    "XX, YY = np.meshgrid(x,y)\n",
    "\n",
    "Z1 = (XX**2) + (YY**2)\n",
    "Z2 = np.random.random((900,1000))"
   ]
  },
  {
   "cell_type": "code",
   "execution_count": 7,
   "id": "509f8893",
   "metadata": {},
   "outputs": [
    {
     "data": {
      "text/plain": [
       "<matplotlib.contour.QuadContourSet at 0x20b2c0c4310>"
      ]
     },
     "execution_count": 7,
     "metadata": {},
     "output_type": "execute_result"
    },
    {
     "data": {
      "image/png": "[encoded data removed]",
      "text/plain": [
       "<Figure size 432x288 with 1 Axes>"
      ]
     },
     "metadata": {
      "needs_background": "light"
     },
     "output_type": "display_data"
    }
   ],
   "source": [
    "import matplotlib.pyplot as plt\n",
    "plt.contourf(XX, YY, Z1)"
   ]
  },
  {
   "cell_type": "code",
   "execution_count": null,
   "id": "1c7106cb",
   "metadata": {},
   "outputs": [],
   "source": []
  }
 ],
 "metadata": {
  "kernelspec": {
   "display_name": "Python 3 (ipykernel)",
   "language": "python",
   "name": "python3"
  },
  "language_info": {
   "codemirror_mode": {
    "name": "ipython",
    "version": 3
   },
   "file_extension": ".py",
   "mimetype": "text/x-python",
   "name": "python",
   "nbconvert_exporter": "python",
   "pygments_lexer": "ipython3",
   "version": "3.9.12"
  }
 },
 "nbformat": 4,
 "nbformat_minor": 5
}
