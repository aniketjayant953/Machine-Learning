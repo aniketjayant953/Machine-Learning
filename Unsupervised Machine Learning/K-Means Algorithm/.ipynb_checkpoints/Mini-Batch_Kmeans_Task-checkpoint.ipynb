{
 "cells": [
  {
   "cell_type": "code",
   "execution_count": 3,
   "metadata": {
    "_cell_guid": "b1076dfc-b9ad-4769-8c92-a6c4dae69d19",
    "_uuid": "8f2839f25d086af736a60e9eeb907d3b93b6e0e5",
    "execution": {
     "iopub.execute_input": "2024-01-04T12:34:41.316959Z",
     "iopub.status.busy": "2024-01-04T12:34:41.316581Z",
     "iopub.status.idle": "2024-01-04T12:34:41.900164Z",
     "shell.execute_reply": "2024-01-04T12:34:41.898495Z",
     "shell.execute_reply.started": "2024-01-04T12:34:41.316930Z"
    }
   },
   "outputs": [
    {
     "name": "stdout",
     "output_type": "stream",
     "text": [
      "/kaggle/input/nyc-yellow-taxi-trip-data/yellow_tripdata_2016-01.csv\n",
      "/kaggle/input/nyc-yellow-taxi-trip-data/yellow_tripdata_2016-03.csv\n",
      "/kaggle/input/nyc-yellow-taxi-trip-data/yellow_tripdata_2016-02.csv\n",
      "/kaggle/input/nyc-yellow-taxi-trip-data/yellow_tripdata_2015-01.csv\n"
     ]
    }
   ],
   "source": [
    "# This Python 3 environment comes with many helpful analytics libraries installed\n",
    "# It is defined by the kaggle/python Docker image: https://github.com/kaggle/docker-python\n",
    "# For example, here's several helpful packages to load\n",
    "\n",
    "import numpy as np # linear algebra\n",
    "import pandas as pd # data processing, CSV file I/O (e.g. pd.read_csv)\n",
    "\n",
    "# Input data files are available in the read-only \"../input/\" directory\n",
    "# For example, running this (by clicking run or pressing Shift+Enter) will list all files under the input directory\n",
    "\n",
    "import os\n",
    "for dirname, _, filenames in os.walk('/kaggle/input'):\n",
    "    for filename in filenames:\n",
    "        print(os.path.join(dirname, filename))\n",
    "\n",
    "# You can write up to 20GB to the current directory (/kaggle/working/) that gets preserved as output when you create a version using \"Save & Run All\" \n",
    "# You can also write temporary files to /kaggle/temp/, but they won't be saved outside of the current session"
   ]
  },
  {
   "cell_type": "code",
   "execution_count": 4,
   "metadata": {
    "execution": {
     "iopub.execute_input": "2024-01-04T12:34:41.903711Z",
     "iopub.status.busy": "2024-01-04T12:34:41.902938Z",
     "iopub.status.idle": "2024-01-04T12:34:42.994568Z",
     "shell.execute_reply": "2024-01-04T12:34:42.993523Z",
     "shell.execute_reply.started": "2024-01-04T12:34:41.903652Z"
    }
   },
   "outputs": [],
   "source": [
    "import pandas as pd\n",
    "from sklearn.preprocessing import LabelEncoder\n",
    "from sklearn.preprocessing import StandardScaler\n",
    "from sklearn.cluster import MiniBatchKMeans"
   ]
  },
  {
   "cell_type": "code",
   "execution_count": 5,
   "metadata": {
    "execution": {
     "iopub.execute_input": "2024-01-04T12:34:44.937294Z",
     "iopub.status.busy": "2024-01-04T12:34:44.936758Z",
     "iopub.status.idle": "2024-01-04T12:35:43.601948Z",
     "shell.execute_reply": "2024-01-04T12:35:43.600742Z",
     "shell.execute_reply.started": "2024-01-04T12:34:44.937247Z"
    }
   },
   "outputs": [
    {
     "data": {
      "text/plain": [
       "(10906858, 19)"
      ]
     },
     "execution_count": 5,
     "metadata": {},
     "output_type": "execute_result"
    }
   ],
   "source": [
    "data = pd.read_csv(\"/kaggle/input/nyc-yellow-taxi-trip-data/yellow_tripdata_2016-01.csv\")\n",
    "data.shape"
   ]
  },
  {
   "cell_type": "code",
   "execution_count": 6,
   "metadata": {
    "execution": {
     "iopub.execute_input": "2024-01-04T12:35:43.604704Z",
     "iopub.status.busy": "2024-01-04T12:35:43.604220Z",
     "iopub.status.idle": "2024-01-04T12:35:43.644802Z",
     "shell.execute_reply": "2024-01-04T12:35:43.643401Z",
     "shell.execute_reply.started": "2024-01-04T12:35:43.604669Z"
    }
   },
   "outputs": [
    {
     "data": {
      "text/html": [
       "<div>\n",
       "<style scoped>\n",
       "    .dataframe tbody tr th:only-of-type {\n",
       "        vertical-align: middle;\n",
       "    }\n",
       "\n",
       "    .dataframe tbody tr th {\n",
       "        vertical-align: top;\n",
       "    }\n",
       "\n",
       "    .dataframe thead th {\n",
       "        text-align: right;\n",
       "    }\n",
       "</style>\n",
       "<table border=\"1\" class=\"dataframe\">\n",
       "  <thead>\n",
       "    <tr style=\"text-align: right;\">\n",
       "      <th></th>\n",
       "      <th>VendorID</th>\n",
       "      <th>tpep_pickup_datetime</th>\n",
       "      <th>tpep_dropoff_datetime</th>\n",
       "      <th>passenger_count</th>\n",
       "      <th>trip_distance</th>\n",
       "      <th>pickup_longitude</th>\n",
       "      <th>pickup_latitude</th>\n",
       "      <th>RatecodeID</th>\n",
       "      <th>store_and_fwd_flag</th>\n",
       "      <th>dropoff_longitude</th>\n",
       "      <th>dropoff_latitude</th>\n",
       "      <th>payment_type</th>\n",
       "      <th>fare_amount</th>\n",
       "      <th>extra</th>\n",
       "      <th>mta_tax</th>\n",
       "      <th>tip_amount</th>\n",
       "      <th>tolls_amount</th>\n",
       "      <th>improvement_surcharge</th>\n",
       "      <th>total_amount</th>\n",
       "    </tr>\n",
       "  </thead>\n",
       "  <tbody>\n",
       "    <tr>\n",
       "      <th>0</th>\n",
       "      <td>2</td>\n",
       "      <td>2016-01-01 00:00:00</td>\n",
       "      <td>2016-01-01 00:00:00</td>\n",
       "      <td>2</td>\n",
       "      <td>1.10</td>\n",
       "      <td>-73.990372</td>\n",
       "      <td>40.734695</td>\n",
       "      <td>1</td>\n",
       "      <td>N</td>\n",
       "      <td>-73.981842</td>\n",
       "      <td>40.732407</td>\n",
       "      <td>2</td>\n",
       "      <td>7.5</td>\n",
       "      <td>0.5</td>\n",
       "      <td>0.5</td>\n",
       "      <td>0.0</td>\n",
       "      <td>0.0</td>\n",
       "      <td>0.3</td>\n",
       "      <td>8.8</td>\n",
       "    </tr>\n",
       "    <tr>\n",
       "      <th>1</th>\n",
       "      <td>2</td>\n",
       "      <td>2016-01-01 00:00:00</td>\n",
       "      <td>2016-01-01 00:00:00</td>\n",
       "      <td>5</td>\n",
       "      <td>4.90</td>\n",
       "      <td>-73.980782</td>\n",
       "      <td>40.729912</td>\n",
       "      <td>1</td>\n",
       "      <td>N</td>\n",
       "      <td>-73.944473</td>\n",
       "      <td>40.716679</td>\n",
       "      <td>1</td>\n",
       "      <td>18.0</td>\n",
       "      <td>0.5</td>\n",
       "      <td>0.5</td>\n",
       "      <td>0.0</td>\n",
       "      <td>0.0</td>\n",
       "      <td>0.3</td>\n",
       "      <td>19.3</td>\n",
       "    </tr>\n",
       "    <tr>\n",
       "      <th>2</th>\n",
       "      <td>2</td>\n",
       "      <td>2016-01-01 00:00:00</td>\n",
       "      <td>2016-01-01 00:00:00</td>\n",
       "      <td>1</td>\n",
       "      <td>10.54</td>\n",
       "      <td>-73.984550</td>\n",
       "      <td>40.679565</td>\n",
       "      <td>1</td>\n",
       "      <td>N</td>\n",
       "      <td>-73.950272</td>\n",
       "      <td>40.788925</td>\n",
       "      <td>1</td>\n",
       "      <td>33.0</td>\n",
       "      <td>0.5</td>\n",
       "      <td>0.5</td>\n",
       "      <td>0.0</td>\n",
       "      <td>0.0</td>\n",
       "      <td>0.3</td>\n",
       "      <td>34.3</td>\n",
       "    </tr>\n",
       "    <tr>\n",
       "      <th>3</th>\n",
       "      <td>2</td>\n",
       "      <td>2016-01-01 00:00:00</td>\n",
       "      <td>2016-01-01 00:00:00</td>\n",
       "      <td>1</td>\n",
       "      <td>4.75</td>\n",
       "      <td>-73.993469</td>\n",
       "      <td>40.718990</td>\n",
       "      <td>1</td>\n",
       "      <td>N</td>\n",
       "      <td>-73.962242</td>\n",
       "      <td>40.657333</td>\n",
       "      <td>2</td>\n",
       "      <td>16.5</td>\n",
       "      <td>0.0</td>\n",
       "      <td>0.5</td>\n",
       "      <td>0.0</td>\n",
       "      <td>0.0</td>\n",
       "      <td>0.3</td>\n",
       "      <td>17.3</td>\n",
       "    </tr>\n",
       "    <tr>\n",
       "      <th>4</th>\n",
       "      <td>2</td>\n",
       "      <td>2016-01-01 00:00:00</td>\n",
       "      <td>2016-01-01 00:00:00</td>\n",
       "      <td>3</td>\n",
       "      <td>1.76</td>\n",
       "      <td>-73.960625</td>\n",
       "      <td>40.781330</td>\n",
       "      <td>1</td>\n",
       "      <td>N</td>\n",
       "      <td>-73.977264</td>\n",
       "      <td>40.758514</td>\n",
       "      <td>2</td>\n",
       "      <td>8.0</td>\n",
       "      <td>0.0</td>\n",
       "      <td>0.5</td>\n",
       "      <td>0.0</td>\n",
       "      <td>0.0</td>\n",
       "      <td>0.3</td>\n",
       "      <td>8.8</td>\n",
       "    </tr>\n",
       "  </tbody>\n",
       "</table>\n",
       "</div>"
      ],
      "text/plain": [
       "   VendorID tpep_pickup_datetime tpep_dropoff_datetime  passenger_count  \\\n",
       "0         2  2016-01-01 00:00:00   2016-01-01 00:00:00                2   \n",
       "1         2  2016-01-01 00:00:00   2016-01-01 00:00:00                5   \n",
       "2         2  2016-01-01 00:00:00   2016-01-01 00:00:00                1   \n",
       "3         2  2016-01-01 00:00:00   2016-01-01 00:00:00                1   \n",
       "4         2  2016-01-01 00:00:00   2016-01-01 00:00:00                3   \n",
       "\n",
       "   trip_distance  pickup_longitude  pickup_latitude  RatecodeID  \\\n",
       "0           1.10        -73.990372        40.734695           1   \n",
       "1           4.90        -73.980782        40.729912           1   \n",
       "2          10.54        -73.984550        40.679565           1   \n",
       "3           4.75        -73.993469        40.718990           1   \n",
       "4           1.76        -73.960625        40.781330           1   \n",
       "\n",
       "  store_and_fwd_flag  dropoff_longitude  dropoff_latitude  payment_type  \\\n",
       "0                  N         -73.981842         40.732407             2   \n",
       "1                  N         -73.944473         40.716679             1   \n",
       "2                  N         -73.950272         40.788925             1   \n",
       "3                  N         -73.962242         40.657333             2   \n",
       "4                  N         -73.977264         40.758514             2   \n",
       "\n",
       "   fare_amount  extra  mta_tax  tip_amount  tolls_amount  \\\n",
       "0          7.5    0.5      0.5         0.0           0.0   \n",
       "1         18.0    0.5      0.5         0.0           0.0   \n",
       "2         33.0    0.5      0.5         0.0           0.0   \n",
       "3         16.5    0.0      0.5         0.0           0.0   \n",
       "4          8.0    0.0      0.5         0.0           0.0   \n",
       "\n",
       "   improvement_surcharge  total_amount  \n",
       "0                    0.3           8.8  \n",
       "1                    0.3          19.3  \n",
       "2                    0.3          34.3  \n",
       "3                    0.3          17.3  \n",
       "4                    0.3           8.8  "
      ]
     },
     "execution_count": 6,
     "metadata": {},
     "output_type": "execute_result"
    }
   ],
   "source": [
    "data.head()"
   ]
  },
  {
   "cell_type": "code",
   "execution_count": 7,
   "metadata": {
    "execution": {
     "iopub.execute_input": "2024-01-04T12:35:43.646961Z",
     "iopub.status.busy": "2024-01-04T12:35:43.646505Z",
     "iopub.status.idle": "2024-01-04T12:35:47.245351Z",
     "shell.execute_reply": "2024-01-04T12:35:47.244240Z",
     "shell.execute_reply.started": "2024-01-04T12:35:43.646925Z"
    }
   },
   "outputs": [
    {
     "data": {
      "text/plain": [
       "VendorID                 0\n",
       "tpep_pickup_datetime     0\n",
       "tpep_dropoff_datetime    0\n",
       "passenger_count          0\n",
       "trip_distance            0\n",
       "pickup_longitude         0\n",
       "pickup_latitude          0\n",
       "RatecodeID               0\n",
       "store_and_fwd_flag       0\n",
       "dropoff_longitude        0\n",
       "dropoff_latitude         0\n",
       "payment_type             0\n",
       "fare_amount              0\n",
       "extra                    0\n",
       "mta_tax                  0\n",
       "tip_amount               0\n",
       "tolls_amount             0\n",
       "improvement_surcharge    0\n",
       "total_amount             0\n",
       "dtype: int64"
      ]
     },
     "execution_count": 7,
     "metadata": {},
     "output_type": "execute_result"
    }
   ],
   "source": [
    "data.isna().sum()"
   ]
  },
  {
   "cell_type": "code",
   "execution_count": null,
   "metadata": {},
   "outputs": [],
   "source": []
  },
  {
   "cell_type": "markdown",
   "metadata": {},
   "source": [
    "## 2.Pre-Processing"
   ]
  },
  {
   "cell_type": "code",
   "execution_count": 8,
   "metadata": {
    "execution": {
     "iopub.execute_input": "2024-01-04T12:35:47.250892Z",
     "iopub.status.busy": "2024-01-04T12:35:47.250516Z",
     "iopub.status.idle": "2024-01-04T12:36:10.024547Z",
     "shell.execute_reply": "2024-01-04T12:36:10.023342Z",
     "shell.execute_reply.started": "2024-01-04T12:35:47.250854Z"
    }
   },
   "outputs": [
    {
     "data": {
      "text/html": [
       "<div>\n",
       "<style scoped>\n",
       "    .dataframe tbody tr th:only-of-type {\n",
       "        vertical-align: middle;\n",
       "    }\n",
       "\n",
       "    .dataframe tbody tr th {\n",
       "        vertical-align: top;\n",
       "    }\n",
       "\n",
       "    .dataframe thead th {\n",
       "        text-align: right;\n",
       "    }\n",
       "</style>\n",
       "<table border=\"1\" class=\"dataframe\">\n",
       "  <thead>\n",
       "    <tr style=\"text-align: right;\">\n",
       "      <th></th>\n",
       "      <th>VendorID</th>\n",
       "      <th>passenger_count</th>\n",
       "      <th>trip_distance</th>\n",
       "      <th>pickup_longitude</th>\n",
       "      <th>pickup_latitude</th>\n",
       "      <th>RatecodeID</th>\n",
       "      <th>store_and_fwd_flag</th>\n",
       "      <th>dropoff_longitude</th>\n",
       "      <th>dropoff_latitude</th>\n",
       "      <th>payment_type</th>\n",
       "      <th>...</th>\n",
       "      <th>tip_amount</th>\n",
       "      <th>tolls_amount</th>\n",
       "      <th>improvement_surcharge</th>\n",
       "      <th>total_amount</th>\n",
       "      <th>pickup_hour</th>\n",
       "      <th>pickup_day</th>\n",
       "      <th>pickup_month</th>\n",
       "      <th>dropoff_hour</th>\n",
       "      <th>dropoff_day</th>\n",
       "      <th>dropoff_month</th>\n",
       "    </tr>\n",
       "  </thead>\n",
       "  <tbody>\n",
       "    <tr>\n",
       "      <th>0</th>\n",
       "      <td>2</td>\n",
       "      <td>2</td>\n",
       "      <td>-0.001190</td>\n",
       "      <td>-0.127787</td>\n",
       "      <td>0.122698</td>\n",
       "      <td>1</td>\n",
       "      <td>0</td>\n",
       "      <td>-0.123050</td>\n",
       "      <td>0.118132</td>\n",
       "      <td>2</td>\n",
       "      <td>...</td>\n",
       "      <td>-0.667289</td>\n",
       "      <td>-0.173109</td>\n",
       "      <td>0.022355</td>\n",
       "      <td>-0.187884</td>\n",
       "      <td>0</td>\n",
       "      <td>1</td>\n",
       "      <td>1</td>\n",
       "      <td>0</td>\n",
       "      <td>1</td>\n",
       "      <td>1</td>\n",
       "    </tr>\n",
       "    <tr>\n",
       "      <th>1</th>\n",
       "      <td>2</td>\n",
       "      <td>5</td>\n",
       "      <td>0.000084</td>\n",
       "      <td>-0.126741</td>\n",
       "      <td>0.121751</td>\n",
       "      <td>1</td>\n",
       "      <td>0</td>\n",
       "      <td>-0.118852</td>\n",
       "      <td>0.114924</td>\n",
       "      <td>1</td>\n",
       "      <td>...</td>\n",
       "      <td>-0.667289</td>\n",
       "      <td>-0.173109</td>\n",
       "      <td>0.022355</td>\n",
       "      <td>0.100476</td>\n",
       "      <td>0</td>\n",
       "      <td>1</td>\n",
       "      <td>1</td>\n",
       "      <td>0</td>\n",
       "      <td>1</td>\n",
       "      <td>1</td>\n",
       "    </tr>\n",
       "    <tr>\n",
       "      <th>2</th>\n",
       "      <td>2</td>\n",
       "      <td>1</td>\n",
       "      <td>0.001976</td>\n",
       "      <td>-0.127152</td>\n",
       "      <td>0.111784</td>\n",
       "      <td>1</td>\n",
       "      <td>0</td>\n",
       "      <td>-0.119503</td>\n",
       "      <td>0.129658</td>\n",
       "      <td>1</td>\n",
       "      <td>...</td>\n",
       "      <td>-0.667289</td>\n",
       "      <td>-0.173109</td>\n",
       "      <td>0.022355</td>\n",
       "      <td>0.512419</td>\n",
       "      <td>0</td>\n",
       "      <td>1</td>\n",
       "      <td>1</td>\n",
       "      <td>0</td>\n",
       "      <td>1</td>\n",
       "      <td>1</td>\n",
       "    </tr>\n",
       "    <tr>\n",
       "      <th>3</th>\n",
       "      <td>2</td>\n",
       "      <td>1</td>\n",
       "      <td>0.000034</td>\n",
       "      <td>-0.128125</td>\n",
       "      <td>0.119589</td>\n",
       "      <td>1</td>\n",
       "      <td>0</td>\n",
       "      <td>-0.120848</td>\n",
       "      <td>0.102822</td>\n",
       "      <td>2</td>\n",
       "      <td>...</td>\n",
       "      <td>-0.667289</td>\n",
       "      <td>-0.173109</td>\n",
       "      <td>0.022355</td>\n",
       "      <td>0.045550</td>\n",
       "      <td>0</td>\n",
       "      <td>1</td>\n",
       "      <td>1</td>\n",
       "      <td>0</td>\n",
       "      <td>1</td>\n",
       "      <td>1</td>\n",
       "    </tr>\n",
       "    <tr>\n",
       "      <th>4</th>\n",
       "      <td>2</td>\n",
       "      <td>3</td>\n",
       "      <td>-0.000969</td>\n",
       "      <td>-0.124543</td>\n",
       "      <td>0.131931</td>\n",
       "      <td>1</td>\n",
       "      <td>0</td>\n",
       "      <td>-0.122536</td>\n",
       "      <td>0.123456</td>\n",
       "      <td>2</td>\n",
       "      <td>...</td>\n",
       "      <td>-0.667289</td>\n",
       "      <td>-0.173109</td>\n",
       "      <td>0.022355</td>\n",
       "      <td>-0.187884</td>\n",
       "      <td>0</td>\n",
       "      <td>1</td>\n",
       "      <td>1</td>\n",
       "      <td>0</td>\n",
       "      <td>1</td>\n",
       "      <td>1</td>\n",
       "    </tr>\n",
       "  </tbody>\n",
       "</table>\n",
       "<p>5 rows × 23 columns</p>\n",
       "</div>"
      ],
      "text/plain": [
       "   VendorID  passenger_count  trip_distance  pickup_longitude  \\\n",
       "0         2                2      -0.001190         -0.127787   \n",
       "1         2                5       0.000084         -0.126741   \n",
       "2         2                1       0.001976         -0.127152   \n",
       "3         2                1       0.000034         -0.128125   \n",
       "4         2                3      -0.000969         -0.124543   \n",
       "\n",
       "   pickup_latitude  RatecodeID  store_and_fwd_flag  dropoff_longitude  \\\n",
       "0         0.122698           1                   0          -0.123050   \n",
       "1         0.121751           1                   0          -0.118852   \n",
       "2         0.111784           1                   0          -0.119503   \n",
       "3         0.119589           1                   0          -0.120848   \n",
       "4         0.131931           1                   0          -0.122536   \n",
       "\n",
       "   dropoff_latitude  payment_type  ...  tip_amount  tolls_amount  \\\n",
       "0          0.118132             2  ...   -0.667289     -0.173109   \n",
       "1          0.114924             1  ...   -0.667289     -0.173109   \n",
       "2          0.129658             1  ...   -0.667289     -0.173109   \n",
       "3          0.102822             2  ...   -0.667289     -0.173109   \n",
       "4          0.123456             2  ...   -0.667289     -0.173109   \n",
       "\n",
       "   improvement_surcharge  total_amount  pickup_hour  pickup_day  pickup_month  \\\n",
       "0               0.022355     -0.187884            0           1             1   \n",
       "1               0.022355      0.100476            0           1             1   \n",
       "2               0.022355      0.512419            0           1             1   \n",
       "3               0.022355      0.045550            0           1             1   \n",
       "4               0.022355     -0.187884            0           1             1   \n",
       "\n",
       "   dropoff_hour  dropoff_day  dropoff_month  \n",
       "0             0            1              1  \n",
       "1             0            1              1  \n",
       "2             0            1              1  \n",
       "3             0            1              1  \n",
       "4             0            1              1  \n",
       "\n",
       "[5 rows x 23 columns]"
      ]
     },
     "execution_count": 8,
     "metadata": {},
     "output_type": "execute_result"
    }
   ],
   "source": [
    "\n",
    "# Load the data\n",
    "# data = pd.read_csv('/kaggle/input/nyc-yellow-taxi-trip-data/yellow_tripdata_2016-01.csv')\n",
    "\n",
    "# Convert Y/N to 1/0\n",
    "data['store_and_fwd_flag'] = LabelEncoder().fit_transform(data['store_and_fwd_flag'])\n",
    "\n",
    "# Convert timestamp columns to datetime\n",
    "data['tpep_pickup_datetime'] = pd.to_datetime(data['tpep_pickup_datetime'])\n",
    "data['tpep_dropoff_datetime'] = pd.to_datetime(data['tpep_dropoff_datetime'])\n",
    "\n",
    "# Extract features from timestamp columns (hour, day, month)\n",
    "data['pickup_hour'] = data['tpep_pickup_datetime'].dt.hour\n",
    "data['pickup_day'] = data['tpep_pickup_datetime'].dt.day\n",
    "data['pickup_month'] = data['tpep_pickup_datetime'].dt.month\n",
    "data['dropoff_hour'] = data['tpep_dropoff_datetime'].dt.hour\n",
    "data['dropoff_day'] = data['tpep_dropoff_datetime'].dt.day\n",
    "data['dropoff_month'] = data['tpep_dropoff_datetime'].dt.month\n",
    "\n",
    "# Drop unnecessary columns\n",
    "data.drop(['tpep_pickup_datetime', 'tpep_dropoff_datetime'], axis=1, inplace=True)\n",
    "\n",
    "# Standardize numerical features\n",
    "numerical_features = ['trip_distance', 'pickup_longitude', 'pickup_latitude', 'dropoff_longitude', 'dropoff_latitude', 'fare_amount', 'extra', 'mta_tax', 'tip_amount', 'tolls_amount', 'improvement_surcharge', 'total_amount']\n",
    "data[numerical_features] = StandardScaler().fit_transform(data[numerical_features])\n",
    "\n",
    "# Display the preprocessed data\n",
    "data.head()"
   ]
  },
  {
   "cell_type": "code",
   "execution_count": 14,
   "metadata": {
    "execution": {
     "iopub.execute_input": "2024-01-04T12:44:42.521640Z",
     "iopub.status.busy": "2024-01-04T12:44:42.521193Z",
     "iopub.status.idle": "2024-01-04T12:44:42.633915Z",
     "shell.execute_reply": "2024-01-04T12:44:42.632869Z",
     "shell.execute_reply.started": "2024-01-04T12:44:42.521603Z"
    }
   },
   "outputs": [
    {
     "data": {
      "text/plain": [
       "payment_type\n",
       "1    7181476\n",
       "2    3673651\n",
       "3      38319\n",
       "4      13411\n",
       "5          1\n",
       "Name: count, dtype: int64"
      ]
     },
     "execution_count": 14,
     "metadata": {},
     "output_type": "execute_result"
    }
   ],
   "source": [
    "data.payment_type.value_counts()"
   ]
  },
  {
   "cell_type": "markdown",
   "metadata": {},
   "source": [
    "## Determine No of Clusters"
   ]
  },
  {
   "cell_type": "code",
   "execution_count": 9,
   "metadata": {
    "execution": {
     "iopub.execute_input": "2024-01-04T12:36:15.156780Z",
     "iopub.status.busy": "2024-01-04T12:36:15.156360Z",
     "iopub.status.idle": "2024-01-04T12:36:15.164503Z",
     "shell.execute_reply": "2024-01-04T12:36:15.163467Z",
     "shell.execute_reply.started": "2024-01-04T12:36:15.156748Z"
    }
   },
   "outputs": [
    {
     "data": {
      "text/plain": [
       "Index(['VendorID', 'passenger_count', 'trip_distance', 'pickup_longitude',\n",
       "       'pickup_latitude', 'RatecodeID', 'store_and_fwd_flag',\n",
       "       'dropoff_longitude', 'dropoff_latitude', 'payment_type', 'fare_amount',\n",
       "       'extra', 'mta_tax', 'tip_amount', 'tolls_amount',\n",
       "       'improvement_surcharge', 'total_amount', 'pickup_hour', 'pickup_day',\n",
       "       'pickup_month', 'dropoff_hour', 'dropoff_day', 'dropoff_month'],\n",
       "      dtype='object')"
      ]
     },
     "execution_count": 9,
     "metadata": {},
     "output_type": "execute_result"
    }
   ],
   "source": [
    "data.columns"
   ]
  },
  {
   "cell_type": "code",
   "execution_count": 10,
   "metadata": {
    "execution": {
     "iopub.execute_input": "2024-01-04T12:42:31.681769Z",
     "iopub.status.busy": "2024-01-04T12:42:31.681314Z",
     "iopub.status.idle": "2024-01-04T12:42:31.689548Z",
     "shell.execute_reply": "2024-01-04T12:42:31.688151Z",
     "shell.execute_reply.started": "2024-01-04T12:42:31.681725Z"
    }
   },
   "outputs": [
    {
     "data": {
      "text/plain": [
       "(10906858, 23)"
      ]
     },
     "execution_count": 10,
     "metadata": {},
     "output_type": "execute_result"
    }
   ],
   "source": [
    "data.shape"
   ]
  },
  {
   "cell_type": "code",
   "execution_count": 15,
   "metadata": {
    "execution": {
     "iopub.execute_input": "2024-01-04T12:45:49.367069Z",
     "iopub.status.busy": "2024-01-04T12:45:49.366665Z",
     "iopub.status.idle": "2024-01-04T12:45:49.374680Z",
     "shell.execute_reply": "2024-01-04T12:45:49.373650Z",
     "shell.execute_reply.started": "2024-01-04T12:45:49.367038Z"
    }
   },
   "outputs": [
    {
     "data": {
      "text/plain": [
       "19"
      ]
     },
     "execution_count": 15,
     "metadata": {},
     "output_type": "execute_result"
    }
   ],
   "source": [
    "# Select all features for clustering\n",
    "features_for_clustering = ['pickup_longitude', 'pickup_latitude', 'dropoff_longitude', 'dropoff_latitude', \n",
    "                               'passenger_count', 'trip_distance', 'fare_amount', 'extra', 'mta_tax', \n",
    "                               'tip_amount', 'tolls_amount', 'improvement_surcharge', 'total_amount', 'pickup_hour', 'pickup_day',\n",
    "       'pickup_month', 'dropoff_hour', 'dropoff_day', 'dropoff_month']\n",
    "len(features_for_clustering)"
   ]
  },
  {
   "cell_type": "code",
   "execution_count": 27,
   "metadata": {
    "execution": {
     "iopub.execute_input": "2024-01-04T13:30:51.348113Z",
     "iopub.status.busy": "2024-01-04T13:30:51.347619Z",
     "iopub.status.idle": "2024-01-04T13:49:15.093728Z",
     "shell.execute_reply": "2024-01-04T13:49:15.092012Z",
     "shell.execute_reply.started": "2024-01-04T13:30:51.348076Z"
    }
   },
   "outputs": [
    {
     "name": "stdout",
     "output_type": "stream",
     "text": [
      "Training for No of Clusters- 2 completed!!\n",
      "Training for No of Clusters- 3 completed!!\n",
      "Training for No of Clusters- 4 completed!!\n",
      "Training for No of Clusters- 5 completed!!\n",
      "Training for No of Clusters- 6 completed!!\n",
      "Training for No of Clusters- 7 completed!!\n",
      "Training for No of Clusters- 8 completed!!\n",
      "Training for No of Clusters- 9 completed!!\n",
      "Training for No of Clusters- 10 completed!!\n"
     ]
    }
   ],
   "source": [
    "from sklearn.cluster import MiniBatchKMeans\n",
    "from sklearn.metrics import silhouette_score\n",
    "import numpy as np\n",
    "import pandas as pd\n",
    "\n",
    "# Deciding no of clusters upon 10Lakhs Sample\n",
    "X = data[features_for_clustering].sample(100000)\n",
    "\n",
    "# Assuming 'data' is your pre-processed DataFrame\n",
    "n_samples = len(X)\n",
    "n_clusters_range = range(2, 11)  # Number of clusters range from 2 to 10\n",
    "\n",
    "# Specify the number of chunks\n",
    "n_chunks = 10\n",
    "chunk_size = n_samples // n_chunks\n",
    "\n",
    "# Placeholder for silhouette scores\n",
    "silhouette_scores = []\n",
    "inertia = []\n",
    "\n",
    "# Loop through different cluster numbers\n",
    "for n_clusters in n_clusters_range:\n",
    "    # Initialize MiniBatchKMeans\n",
    "    mbkmeans = MiniBatchKMeans(n_clusters=n_clusters, random_state=42, n_init='auto', batch_size=10000)\n",
    "    \n",
    "    # Loop through chunks\n",
    "    for i in range(n_chunks):\n",
    "        # Determine start and end index for the chunk\n",
    "        start_idx = i * chunk_size\n",
    "        end_idx = (i + 1) * chunk_size if i < n_chunks - 1 else n_samples\n",
    "\n",
    "        # Extract the chunk\n",
    "        chunk = X.iloc[start_idx:end_idx]\n",
    "\n",
    "\n",
    "        # Partially fit the model on the chunk\n",
    "        mbkmeans.partial_fit(chunk)\n",
    "\n",
    "\n",
    "    # Predict clusters for all data points\n",
    "    labels = mbkmeans.predict(X)\n",
    "    \n",
    "    # Inertia\n",
    "    inertia.append(mbkmeans.inertia_)\n",
    "    # Calculate silhouette score\n",
    "    silhouette = silhouette_score(X, labels)\n",
    "    silhouette_scores.append(silhouette)\n",
    "    print(f\"Training for No of Clusters- {n_clusters} completed!!\")"
   ]
  },
  {
   "cell_type": "code",
   "execution_count": 28,
   "metadata": {
    "execution": {
     "iopub.execute_input": "2024-01-04T13:49:15.096785Z",
     "iopub.status.busy": "2024-01-04T13:49:15.096353Z",
     "iopub.status.idle": "2024-01-04T13:49:15.431076Z",
     "shell.execute_reply": "2024-01-04T13:49:15.429788Z",
     "shell.execute_reply.started": "2024-01-04T13:49:15.096748Z"
    }
   },
   "outputs": [
    {
     "data": {
      "image/png": "[encoded data removed]",
      "text/plain": [
       "<Figure size 640x480 with 1 Axes>"
      ]
     },
     "metadata": {},
     "output_type": "display_data"
    }
   ],
   "source": [
    "import matplotlib.pyplot as plt\n",
    "\n",
    "# Plot the silhouette scores\n",
    "plt.plot(n_clusters_range, silhouette_scores, marker='o')\n",
    "plt.xlabel('Number of Clusters')\n",
    "plt.ylabel('Silhouette Score')\n",
    "plt.title('Silhouette Score for Different Numbers of Clusters')\n",
    "plt.show()"
   ]
  },
  {
   "cell_type": "markdown",
   "metadata": {},
   "source": [
    "* As per silhouette, No of Clusters = 2"
   ]
  },
  {
   "cell_type": "code",
   "execution_count": 29,
   "metadata": {
    "execution": {
     "iopub.execute_input": "2024-01-04T13:49:30.858579Z",
     "iopub.status.busy": "2024-01-04T13:49:30.858125Z",
     "iopub.status.idle": "2024-01-04T13:49:31.184082Z",
     "shell.execute_reply": "2024-01-04T13:49:31.182764Z",
     "shell.execute_reply.started": "2024-01-04T13:49:30.858540Z"
    }
   },
   "outputs": [
    {
     "data": {
      "image/png": "[encoded data removed]",
      "text/plain": [
       "<Figure size 640x480 with 1 Axes>"
      ]
     },
     "metadata": {},
     "output_type": "display_data"
    }
   ],
   "source": [
    "# Plot inertia vs No Of centroids\n",
    "plt.plot(n_clusters_range, inertia, marker='o')\n",
    "plt.xlabel('Number of Clusters')\n",
    "plt.ylabel('Inertia')\n",
    "plt.title('Inertia for Different Numbers of Clusters')\n",
    "plt.show()"
   ]
  },
  {
   "cell_type": "markdown",
   "metadata": {},
   "source": [
    "* As per Elbow method no of cluster: 5"
   ]
  },
  {
   "cell_type": "code",
   "execution_count": 31,
   "metadata": {
    "execution": {
     "iopub.execute_input": "2024-01-04T13:50:11.603782Z",
     "iopub.status.busy": "2024-01-04T13:50:11.602899Z",
     "iopub.status.idle": "2024-01-04T13:50:11.611145Z",
     "shell.execute_reply": "2024-01-04T13:50:11.609973Z",
     "shell.execute_reply.started": "2024-01-04T13:50:11.603740Z"
    }
   },
   "outputs": [
    {
     "data": {
      "text/plain": [
       "[1369316.6368323346,\n",
       " 1069715.2200104615,\n",
       " 824011.2659520644,\n",
       " 657482.027692126,\n",
       " 561118.5344702443,\n",
       " 496688.41475663934,\n",
       " 461104.40900834266,\n",
       " 414226.55841538083,\n",
       " 381168.76094572234]"
      ]
     },
     "execution_count": 31,
     "metadata": {},
     "output_type": "execute_result"
    }
   ],
   "source": [
    "inertia"
   ]
  },
  {
   "cell_type": "code",
   "execution_count": 32,
   "metadata": {
    "execution": {
     "iopub.execute_input": "2024-01-04T13:50:37.854083Z",
     "iopub.status.busy": "2024-01-04T13:50:37.853638Z",
     "iopub.status.idle": "2024-01-04T13:50:37.863409Z",
     "shell.execute_reply": "2024-01-04T13:50:37.861849Z",
     "shell.execute_reply.started": "2024-01-04T13:50:37.854051Z"
    }
   },
   "outputs": [
    {
     "data": {
      "text/plain": [
       "[0.3988928785897746,\n",
       " 0.3330814332594021,\n",
       " 0.3281935425319057,\n",
       " 0.33956001049540036,\n",
       " 0.32795682839320084,\n",
       " 0.33291863184766785,\n",
       " 0.30946405694478585,\n",
       " 0.31262872990079776,\n",
       " 0.3056453816998109]"
      ]
     },
     "execution_count": 32,
     "metadata": {},
     "output_type": "execute_result"
    }
   ],
   "source": [
    "silhouette_scores"
   ]
  },
  {
   "cell_type": "code",
   "execution_count": 35,
   "metadata": {
    "execution": {
     "iopub.execute_input": "2024-01-04T14:01:46.788185Z",
     "iopub.status.busy": "2024-01-04T14:01:46.787767Z",
     "iopub.status.idle": "2024-01-04T14:01:52.938236Z",
     "shell.execute_reply": "2024-01-04T14:01:52.937087Z",
     "shell.execute_reply.started": "2024-01-04T14:01:46.788154Z"
    }
   },
   "outputs": [],
   "source": [
    "# Taking optimal no of clusters as 5\n",
    "\n",
    "X = data[features_for_clustering]\n",
    "\n",
    "n_samples = len(X)\n",
    "\n",
    "# Specify the number of chunks\n",
    "n_chunks = 10\n",
    "chunk_size = n_samples // n_chunks\n",
    "\n",
    "# Initialize MiniBatchKMeans\n",
    "mbkmeans = MiniBatchKMeans(n_clusters=5, random_state=42, n_init='auto', batch_size=chunk_size)\n",
    "\n",
    "# Loop through chunks\n",
    "for i in range(n_chunks):\n",
    "    # Determine start and end index for the chunk\n",
    "    start_idx = i * chunk_size\n",
    "    end_idx = (i + 1) * chunk_size if i < n_chunks - 1 else n_samples\n",
    "\n",
    "    # Extract the chunk\n",
    "    chunk = X.iloc[start_idx:end_idx]\n",
    "\n",
    "    # Partially fit the model on the chunk\n",
    "    mbkmeans.partial_fit(chunk)\n",
    "\n",
    "# Predict clusters for all data points\n",
    "data['labels'] = mbkmeans.predict(X)"
   ]
  },
  {
   "cell_type": "code",
   "execution_count": 36,
   "metadata": {
    "execution": {
     "iopub.execute_input": "2024-01-04T14:01:53.448780Z",
     "iopub.status.busy": "2024-01-04T14:01:53.448309Z",
     "iopub.status.idle": "2024-01-04T14:01:53.526780Z",
     "shell.execute_reply": "2024-01-04T14:01:53.525444Z",
     "shell.execute_reply.started": "2024-01-04T14:01:53.448744Z"
    }
   },
   "outputs": [
    {
     "data": {
      "text/plain": [
       "labels\n",
       "2    3751560\n",
       "4    2221153\n",
       "1    2048207\n",
       "0    1894307\n",
       "3     991631\n",
       "Name: count, dtype: int64"
      ]
     },
     "execution_count": 36,
     "metadata": {},
     "output_type": "execute_result"
    }
   ],
   "source": [
    "data['labels'].value_counts()"
   ]
  },
  {
   "cell_type": "code",
   "execution_count": null,
   "metadata": {},
   "outputs": [],
   "source": []
  }
 ],
 "metadata": {
  "kaggle": {
   "accelerator": "none",
   "dataSources": [
    {
     "datasetId": 1777799,
     "sourceId": 2905525,
     "sourceType": "datasetVersion"
    }
   ],
   "dockerImageVersionId": 30626,
   "isGpuEnabled": false,
   "isInternetEnabled": true,
   "language": "python",
   "sourceType": "notebook"
  },
  "kernelspec": {
   "display_name": "Python 3",
   "language": "python",
   "name": "python3"
  },
  "language_info": {
   "codemirror_mode": {
    "name": "ipython",
    "version": 3
   },
   "file_extension": ".py",
   "mimetype": "text/x-python",
   "name": "python",
   "nbconvert_exporter": "python",
   "pygments_lexer": "ipython3",
   "version": "3.10.12"
  }
 },
 "nbformat": 4,
 "nbformat_minor": 4
}
