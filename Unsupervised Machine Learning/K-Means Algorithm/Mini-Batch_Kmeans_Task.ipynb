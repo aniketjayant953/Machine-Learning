{
 "cells": [
  {
   "cell_type": "code",
   "execution_count": 1,
   "metadata": {
    "execution": {
     "iopub.execute_input": "2024-01-04T12:34:41.903711Z",
     "iopub.status.busy": "2024-01-04T12:34:41.902938Z",
     "iopub.status.idle": "2024-01-04T12:34:42.994568Z",
     "shell.execute_reply": "2024-01-04T12:34:42.993523Z",
     "shell.execute_reply.started": "2024-01-04T12:34:41.903652Z"
    }
   },
   "outputs": [],
   "source": [
    "import pandas as pd\n",
    "from sklearn.preprocessing import LabelEncoder\n",
    "from sklearn.preprocessing import StandardScaler\n",
    "from sklearn.cluster import MiniBatchKMeans"
   ]
  },
  {
   "cell_type": "code",
   "execution_count": 27,
   "metadata": {
    "execution": {
     "iopub.execute_input": "2024-01-04T12:34:44.937294Z",
     "iopub.status.busy": "2024-01-04T12:34:44.936758Z",
     "iopub.status.idle": "2024-01-04T12:35:43.601948Z",
     "shell.execute_reply": "2024-01-04T12:35:43.600742Z",
     "shell.execute_reply.started": "2024-01-04T12:34:44.937247Z"
    }
   },
   "outputs": [
    {
     "data": {
      "text/plain": [
       "(12748986, 19)"
      ]
     },
     "execution_count": 27,
     "metadata": {},
     "output_type": "execute_result"
    }
   ],
   "source": [
    "data = pd.read_csv(\"yellow_tripdata_2015-01.csv\")\n",
    "data.shape"
   ]
  },
  {
   "cell_type": "code",
   "execution_count": 28,
   "metadata": {
    "execution": {
     "iopub.execute_input": "2024-01-04T12:35:43.604704Z",
     "iopub.status.busy": "2024-01-04T12:35:43.604220Z",
     "iopub.status.idle": "2024-01-04T12:35:43.644802Z",
     "shell.execute_reply": "2024-01-04T12:35:43.643401Z",
     "shell.execute_reply.started": "2024-01-04T12:35:43.604669Z"
    }
   },
   "outputs": [
    {
     "data": {
      "text/html": [
       "<div>\n",
       "<style scoped>\n",
       "    .dataframe tbody tr th:only-of-type {\n",
       "        vertical-align: middle;\n",
       "    }\n",
       "\n",
       "    .dataframe tbody tr th {\n",
       "        vertical-align: top;\n",
       "    }\n",
       "\n",
       "    .dataframe thead th {\n",
       "        text-align: right;\n",
       "    }\n",
       "</style>\n",
       "<table border=\"1\" class=\"dataframe\">\n",
       "  <thead>\n",
       "    <tr style=\"text-align: right;\">\n",
       "      <th></th>\n",
       "      <th>VendorID</th>\n",
       "      <th>tpep_pickup_datetime</th>\n",
       "      <th>tpep_dropoff_datetime</th>\n",
       "      <th>passenger_count</th>\n",
       "      <th>trip_distance</th>\n",
       "      <th>pickup_longitude</th>\n",
       "      <th>pickup_latitude</th>\n",
       "      <th>RateCodeID</th>\n",
       "      <th>store_and_fwd_flag</th>\n",
       "      <th>dropoff_longitude</th>\n",
       "      <th>dropoff_latitude</th>\n",
       "      <th>payment_type</th>\n",
       "      <th>fare_amount</th>\n",
       "      <th>extra</th>\n",
       "      <th>mta_tax</th>\n",
       "      <th>tip_amount</th>\n",
       "      <th>tolls_amount</th>\n",
       "      <th>improvement_surcharge</th>\n",
       "      <th>total_amount</th>\n",
       "    </tr>\n",
       "  </thead>\n",
       "  <tbody>\n",
       "    <tr>\n",
       "      <th>0</th>\n",
       "      <td>2</td>\n",
       "      <td>2015-01-15 19:05:39</td>\n",
       "      <td>2015-01-15 19:23:42</td>\n",
       "      <td>1</td>\n",
       "      <td>1.59</td>\n",
       "      <td>-73.993896</td>\n",
       "      <td>40.750111</td>\n",
       "      <td>1</td>\n",
       "      <td>N</td>\n",
       "      <td>-73.974785</td>\n",
       "      <td>40.750618</td>\n",
       "      <td>1</td>\n",
       "      <td>12.0</td>\n",
       "      <td>1.0</td>\n",
       "      <td>0.5</td>\n",
       "      <td>3.25</td>\n",
       "      <td>0.0</td>\n",
       "      <td>0.3</td>\n",
       "      <td>17.05</td>\n",
       "    </tr>\n",
       "    <tr>\n",
       "      <th>1</th>\n",
       "      <td>1</td>\n",
       "      <td>2015-01-10 20:33:38</td>\n",
       "      <td>2015-01-10 20:53:28</td>\n",
       "      <td>1</td>\n",
       "      <td>3.30</td>\n",
       "      <td>-74.001648</td>\n",
       "      <td>40.724243</td>\n",
       "      <td>1</td>\n",
       "      <td>N</td>\n",
       "      <td>-73.994415</td>\n",
       "      <td>40.759109</td>\n",
       "      <td>1</td>\n",
       "      <td>14.5</td>\n",
       "      <td>0.5</td>\n",
       "      <td>0.5</td>\n",
       "      <td>2.00</td>\n",
       "      <td>0.0</td>\n",
       "      <td>0.3</td>\n",
       "      <td>17.80</td>\n",
       "    </tr>\n",
       "    <tr>\n",
       "      <th>2</th>\n",
       "      <td>1</td>\n",
       "      <td>2015-01-10 20:33:38</td>\n",
       "      <td>2015-01-10 20:43:41</td>\n",
       "      <td>1</td>\n",
       "      <td>1.80</td>\n",
       "      <td>-73.963341</td>\n",
       "      <td>40.802788</td>\n",
       "      <td>1</td>\n",
       "      <td>N</td>\n",
       "      <td>-73.951820</td>\n",
       "      <td>40.824413</td>\n",
       "      <td>2</td>\n",
       "      <td>9.5</td>\n",
       "      <td>0.5</td>\n",
       "      <td>0.5</td>\n",
       "      <td>0.00</td>\n",
       "      <td>0.0</td>\n",
       "      <td>0.3</td>\n",
       "      <td>10.80</td>\n",
       "    </tr>\n",
       "    <tr>\n",
       "      <th>3</th>\n",
       "      <td>1</td>\n",
       "      <td>2015-01-10 20:33:39</td>\n",
       "      <td>2015-01-10 20:35:31</td>\n",
       "      <td>1</td>\n",
       "      <td>0.50</td>\n",
       "      <td>-74.009087</td>\n",
       "      <td>40.713818</td>\n",
       "      <td>1</td>\n",
       "      <td>N</td>\n",
       "      <td>-74.004326</td>\n",
       "      <td>40.719986</td>\n",
       "      <td>2</td>\n",
       "      <td>3.5</td>\n",
       "      <td>0.5</td>\n",
       "      <td>0.5</td>\n",
       "      <td>0.00</td>\n",
       "      <td>0.0</td>\n",
       "      <td>0.3</td>\n",
       "      <td>4.80</td>\n",
       "    </tr>\n",
       "    <tr>\n",
       "      <th>4</th>\n",
       "      <td>1</td>\n",
       "      <td>2015-01-10 20:33:39</td>\n",
       "      <td>2015-01-10 20:52:58</td>\n",
       "      <td>1</td>\n",
       "      <td>3.00</td>\n",
       "      <td>-73.971176</td>\n",
       "      <td>40.762428</td>\n",
       "      <td>1</td>\n",
       "      <td>N</td>\n",
       "      <td>-74.004181</td>\n",
       "      <td>40.742653</td>\n",
       "      <td>2</td>\n",
       "      <td>15.0</td>\n",
       "      <td>0.5</td>\n",
       "      <td>0.5</td>\n",
       "      <td>0.00</td>\n",
       "      <td>0.0</td>\n",
       "      <td>0.3</td>\n",
       "      <td>16.30</td>\n",
       "    </tr>\n",
       "  </tbody>\n",
       "</table>\n",
       "</div>"
      ],
      "text/plain": [
       "   VendorID tpep_pickup_datetime tpep_dropoff_datetime  passenger_count  \\\n",
       "0         2  2015-01-15 19:05:39   2015-01-15 19:23:42                1   \n",
       "1         1  2015-01-10 20:33:38   2015-01-10 20:53:28                1   \n",
       "2         1  2015-01-10 20:33:38   2015-01-10 20:43:41                1   \n",
       "3         1  2015-01-10 20:33:39   2015-01-10 20:35:31                1   \n",
       "4         1  2015-01-10 20:33:39   2015-01-10 20:52:58                1   \n",
       "\n",
       "   trip_distance  pickup_longitude  pickup_latitude  RateCodeID  \\\n",
       "0           1.59        -73.993896        40.750111           1   \n",
       "1           3.30        -74.001648        40.724243           1   \n",
       "2           1.80        -73.963341        40.802788           1   \n",
       "3           0.50        -74.009087        40.713818           1   \n",
       "4           3.00        -73.971176        40.762428           1   \n",
       "\n",
       "  store_and_fwd_flag  dropoff_longitude  dropoff_latitude  payment_type  \\\n",
       "0                  N         -73.974785         40.750618             1   \n",
       "1                  N         -73.994415         40.759109             1   \n",
       "2                  N         -73.951820         40.824413             2   \n",
       "3                  N         -74.004326         40.719986             2   \n",
       "4                  N         -74.004181         40.742653             2   \n",
       "\n",
       "   fare_amount  extra  mta_tax  tip_amount  tolls_amount  \\\n",
       "0         12.0    1.0      0.5        3.25           0.0   \n",
       "1         14.5    0.5      0.5        2.00           0.0   \n",
       "2          9.5    0.5      0.5        0.00           0.0   \n",
       "3          3.5    0.5      0.5        0.00           0.0   \n",
       "4         15.0    0.5      0.5        0.00           0.0   \n",
       "\n",
       "   improvement_surcharge  total_amount  \n",
       "0                    0.3         17.05  \n",
       "1                    0.3         17.80  \n",
       "2                    0.3         10.80  \n",
       "3                    0.3          4.80  \n",
       "4                    0.3         16.30  "
      ]
     },
     "execution_count": 28,
     "metadata": {},
     "output_type": "execute_result"
    }
   ],
   "source": [
    "data.head()"
   ]
  },
  {
   "cell_type": "code",
   "execution_count": 29,
   "metadata": {
    "execution": {
     "iopub.execute_input": "2024-01-04T12:35:43.646961Z",
     "iopub.status.busy": "2024-01-04T12:35:43.646505Z",
     "iopub.status.idle": "2024-01-04T12:35:47.245351Z",
     "shell.execute_reply": "2024-01-04T12:35:47.244240Z",
     "shell.execute_reply.started": "2024-01-04T12:35:43.646925Z"
    }
   },
   "outputs": [
    {
     "data": {
      "text/plain": [
       "VendorID                 0\n",
       "tpep_pickup_datetime     0\n",
       "tpep_dropoff_datetime    0\n",
       "passenger_count          0\n",
       "trip_distance            0\n",
       "pickup_longitude         0\n",
       "pickup_latitude          0\n",
       "RateCodeID               0\n",
       "store_and_fwd_flag       0\n",
       "dropoff_longitude        0\n",
       "dropoff_latitude         0\n",
       "payment_type             0\n",
       "fare_amount              0\n",
       "extra                    0\n",
       "mta_tax                  0\n",
       "tip_amount               0\n",
       "tolls_amount             0\n",
       "improvement_surcharge    3\n",
       "total_amount             0\n",
       "dtype: int64"
      ]
     },
     "execution_count": 29,
     "metadata": {},
     "output_type": "execute_result"
    }
   ],
   "source": [
    "data.isna().sum()"
   ]
  },
  {
   "cell_type": "markdown",
   "metadata": {},
   "source": [
    "## 2.Pre-Processing"
   ]
  },
  {
   "cell_type": "code",
   "execution_count": 31,
   "metadata": {},
   "outputs": [],
   "source": [
    "data.dropna(inplace=True)"
   ]
  },
  {
   "cell_type": "code",
   "execution_count": 32,
   "metadata": {
    "execution": {
     "iopub.execute_input": "2024-01-04T12:35:47.250892Z",
     "iopub.status.busy": "2024-01-04T12:35:47.250516Z",
     "iopub.status.idle": "2024-01-04T12:36:10.024547Z",
     "shell.execute_reply": "2024-01-04T12:36:10.023342Z",
     "shell.execute_reply.started": "2024-01-04T12:35:47.250854Z"
    }
   },
   "outputs": [
    {
     "data": {
      "text/html": [
       "<div>\n",
       "<style scoped>\n",
       "    .dataframe tbody tr th:only-of-type {\n",
       "        vertical-align: middle;\n",
       "    }\n",
       "\n",
       "    .dataframe tbody tr th {\n",
       "        vertical-align: top;\n",
       "    }\n",
       "\n",
       "    .dataframe thead th {\n",
       "        text-align: right;\n",
       "    }\n",
       "</style>\n",
       "<table border=\"1\" class=\"dataframe\">\n",
       "  <thead>\n",
       "    <tr style=\"text-align: right;\">\n",
       "      <th></th>\n",
       "      <th>VendorID</th>\n",
       "      <th>passenger_count</th>\n",
       "      <th>trip_distance</th>\n",
       "      <th>pickup_longitude</th>\n",
       "      <th>pickup_latitude</th>\n",
       "      <th>RateCodeID</th>\n",
       "      <th>store_and_fwd_flag</th>\n",
       "      <th>dropoff_longitude</th>\n",
       "      <th>dropoff_latitude</th>\n",
       "      <th>payment_type</th>\n",
       "      <th>...</th>\n",
       "      <th>tip_amount</th>\n",
       "      <th>tolls_amount</th>\n",
       "      <th>improvement_surcharge</th>\n",
       "      <th>total_amount</th>\n",
       "      <th>pickup_hour</th>\n",
       "      <th>pickup_day</th>\n",
       "      <th>pickup_month</th>\n",
       "      <th>dropoff_hour</th>\n",
       "      <th>dropoff_day</th>\n",
       "      <th>dropoff_month</th>\n",
       "    </tr>\n",
       "  </thead>\n",
       "  <tbody>\n",
       "    <tr>\n",
       "      <th>0</th>\n",
       "      <td>2</td>\n",
       "      <td>1</td>\n",
       "      <td>-0.001206</td>\n",
       "      <td>-0.141436</td>\n",
       "      <td>0.139331</td>\n",
       "      <td>1</td>\n",
       "      <td>0</td>\n",
       "      <td>-0.137039</td>\n",
       "      <td>0.136850</td>\n",
       "      <td>1</td>\n",
       "      <td>...</td>\n",
       "      <td>0.001262</td>\n",
       "      <td>-0.159444</td>\n",
       "      <td>0.243998</td>\n",
       "      <td>0.001755</td>\n",
       "      <td>19</td>\n",
       "      <td>15</td>\n",
       "      <td>1</td>\n",
       "      <td>19</td>\n",
       "      <td>15</td>\n",
       "      <td>1</td>\n",
       "    </tr>\n",
       "    <tr>\n",
       "      <th>1</th>\n",
       "      <td>1</td>\n",
       "      <td>1</td>\n",
       "      <td>-0.001032</td>\n",
       "      <td>-0.142201</td>\n",
       "      <td>0.134694</td>\n",
       "      <td>1</td>\n",
       "      <td>0</td>\n",
       "      <td>-0.139009</td>\n",
       "      <td>0.138398</td>\n",
       "      <td>1</td>\n",
       "      <td>...</td>\n",
       "      <td>0.000132</td>\n",
       "      <td>-0.159444</td>\n",
       "      <td>0.243998</td>\n",
       "      <td>0.002433</td>\n",
       "      <td>20</td>\n",
       "      <td>10</td>\n",
       "      <td>1</td>\n",
       "      <td>20</td>\n",
       "      <td>10</td>\n",
       "      <td>1</td>\n",
       "    </tr>\n",
       "    <tr>\n",
       "      <th>2</th>\n",
       "      <td>1</td>\n",
       "      <td>1</td>\n",
       "      <td>-0.001184</td>\n",
       "      <td>-0.138418</td>\n",
       "      <td>0.148773</td>\n",
       "      <td>1</td>\n",
       "      <td>0</td>\n",
       "      <td>-0.134735</td>\n",
       "      <td>0.150298</td>\n",
       "      <td>2</td>\n",
       "      <td>...</td>\n",
       "      <td>-0.001675</td>\n",
       "      <td>-0.159444</td>\n",
       "      <td>0.243998</td>\n",
       "      <td>-0.003894</td>\n",
       "      <td>20</td>\n",
       "      <td>10</td>\n",
       "      <td>1</td>\n",
       "      <td>20</td>\n",
       "      <td>10</td>\n",
       "      <td>1</td>\n",
       "    </tr>\n",
       "    <tr>\n",
       "      <th>3</th>\n",
       "      <td>1</td>\n",
       "      <td>1</td>\n",
       "      <td>-0.001316</td>\n",
       "      <td>-0.142936</td>\n",
       "      <td>0.132825</td>\n",
       "      <td>1</td>\n",
       "      <td>0</td>\n",
       "      <td>-0.140003</td>\n",
       "      <td>0.131268</td>\n",
       "      <td>2</td>\n",
       "      <td>...</td>\n",
       "      <td>-0.001675</td>\n",
       "      <td>-0.159444</td>\n",
       "      <td>0.243998</td>\n",
       "      <td>-0.009316</td>\n",
       "      <td>20</td>\n",
       "      <td>10</td>\n",
       "      <td>1</td>\n",
       "      <td>20</td>\n",
       "      <td>10</td>\n",
       "      <td>1</td>\n",
       "    </tr>\n",
       "    <tr>\n",
       "      <th>4</th>\n",
       "      <td>1</td>\n",
       "      <td>1</td>\n",
       "      <td>-0.001062</td>\n",
       "      <td>-0.139192</td>\n",
       "      <td>0.141539</td>\n",
       "      <td>1</td>\n",
       "      <td>0</td>\n",
       "      <td>-0.139989</td>\n",
       "      <td>0.135399</td>\n",
       "      <td>2</td>\n",
       "      <td>...</td>\n",
       "      <td>-0.001675</td>\n",
       "      <td>-0.159444</td>\n",
       "      <td>0.243998</td>\n",
       "      <td>0.001077</td>\n",
       "      <td>20</td>\n",
       "      <td>10</td>\n",
       "      <td>1</td>\n",
       "      <td>20</td>\n",
       "      <td>10</td>\n",
       "      <td>1</td>\n",
       "    </tr>\n",
       "  </tbody>\n",
       "</table>\n",
       "<p>5 rows × 23 columns</p>\n",
       "</div>"
      ],
      "text/plain": [
       "   VendorID  passenger_count  trip_distance  pickup_longitude  \\\n",
       "0         2                1      -0.001206         -0.141436   \n",
       "1         1                1      -0.001032         -0.142201   \n",
       "2         1                1      -0.001184         -0.138418   \n",
       "3         1                1      -0.001316         -0.142936   \n",
       "4         1                1      -0.001062         -0.139192   \n",
       "\n",
       "   pickup_latitude  RateCodeID  store_and_fwd_flag  dropoff_longitude  \\\n",
       "0         0.139331           1                   0          -0.137039   \n",
       "1         0.134694           1                   0          -0.139009   \n",
       "2         0.148773           1                   0          -0.134735   \n",
       "3         0.132825           1                   0          -0.140003   \n",
       "4         0.141539           1                   0          -0.139989   \n",
       "\n",
       "   dropoff_latitude  payment_type  ...  tip_amount  tolls_amount  \\\n",
       "0          0.136850             1  ...    0.001262     -0.159444   \n",
       "1          0.138398             1  ...    0.000132     -0.159444   \n",
       "2          0.150298             2  ...   -0.001675     -0.159444   \n",
       "3          0.131268             2  ...   -0.001675     -0.159444   \n",
       "4          0.135399             2  ...   -0.001675     -0.159444   \n",
       "\n",
       "   improvement_surcharge  total_amount  pickup_hour  pickup_day  pickup_month  \\\n",
       "0               0.243998      0.001755           19          15             1   \n",
       "1               0.243998      0.002433           20          10             1   \n",
       "2               0.243998     -0.003894           20          10             1   \n",
       "3               0.243998     -0.009316           20          10             1   \n",
       "4               0.243998      0.001077           20          10             1   \n",
       "\n",
       "   dropoff_hour  dropoff_day  dropoff_month  \n",
       "0            19           15              1  \n",
       "1            20           10              1  \n",
       "2            20           10              1  \n",
       "3            20           10              1  \n",
       "4            20           10              1  \n",
       "\n",
       "[5 rows x 23 columns]"
      ]
     },
     "execution_count": 32,
     "metadata": {},
     "output_type": "execute_result"
    }
   ],
   "source": [
    "# Load the data\n",
    "# data = pd.read_csv('/kaggle/input/nyc-yellow-taxi-trip-data/yellow_tripdata_2016-01.csv')\n",
    "\n",
    "# Convert Y/N to 1/0\n",
    "data['store_and_fwd_flag'] = LabelEncoder().fit_transform(data['store_and_fwd_flag'])\n",
    "\n",
    "# Convert timestamp columns to datetime\n",
    "data['tpep_pickup_datetime'] = pd.to_datetime(data['tpep_pickup_datetime'])\n",
    "data['tpep_dropoff_datetime'] = pd.to_datetime(data['tpep_dropoff_datetime'])\n",
    "\n",
    "# Extract features from timestamp columns (hour, day, month)\n",
    "data['pickup_hour'] = data['tpep_pickup_datetime'].dt.hour\n",
    "data['pickup_day'] = data['tpep_pickup_datetime'].dt.day\n",
    "data['pickup_month'] = data['tpep_pickup_datetime'].dt.month\n",
    "data['dropoff_hour'] = data['tpep_dropoff_datetime'].dt.hour\n",
    "data['dropoff_day'] = data['tpep_dropoff_datetime'].dt.day\n",
    "data['dropoff_month'] = data['tpep_dropoff_datetime'].dt.month\n",
    "\n",
    "# Drop unnecessary columns\n",
    "data.drop(['tpep_pickup_datetime', 'tpep_dropoff_datetime'], axis=1, inplace=True)\n",
    "\n",
    "# Standardize numerical features\n",
    "numerical_features = ['trip_distance', 'pickup_longitude', 'pickup_latitude', 'dropoff_longitude', 'dropoff_latitude', 'fare_amount', 'extra', 'mta_tax', 'tip_amount', 'tolls_amount', 'improvement_surcharge', 'total_amount']\n",
    "data[numerical_features] = StandardScaler().fit_transform(data[numerical_features])\n",
    "\n",
    "# Display the preprocessed data\n",
    "data.head()"
   ]
  },
  {
   "cell_type": "code",
   "execution_count": 6,
   "metadata": {
    "execution": {
     "iopub.execute_input": "2024-01-04T12:44:42.521640Z",
     "iopub.status.busy": "2024-01-04T12:44:42.521193Z",
     "iopub.status.idle": "2024-01-04T12:44:42.633915Z",
     "shell.execute_reply": "2024-01-04T12:44:42.632869Z",
     "shell.execute_reply.started": "2024-01-04T12:44:42.521603Z"
    }
   },
   "outputs": [
    {
     "data": {
      "text/plain": [
       "1    7881388\n",
       "2    4816992\n",
       "3      38632\n",
       "4      11972\n",
       "5          2\n",
       "Name: payment_type, dtype: int64"
      ]
     },
     "execution_count": 6,
     "metadata": {},
     "output_type": "execute_result"
    }
   ],
   "source": [
    "data.payment_type.value_counts()"
   ]
  },
  {
   "cell_type": "markdown",
   "metadata": {},
   "source": [
    "## Determine No of Clusters"
   ]
  },
  {
   "cell_type": "code",
   "execution_count": 7,
   "metadata": {
    "execution": {
     "iopub.execute_input": "2024-01-04T12:36:15.156780Z",
     "iopub.status.busy": "2024-01-04T12:36:15.156360Z",
     "iopub.status.idle": "2024-01-04T12:36:15.164503Z",
     "shell.execute_reply": "2024-01-04T12:36:15.163467Z",
     "shell.execute_reply.started": "2024-01-04T12:36:15.156748Z"
    }
   },
   "outputs": [
    {
     "data": {
      "text/plain": [
       "Index(['VendorID', 'passenger_count', 'trip_distance', 'pickup_longitude',\n",
       "       'pickup_latitude', 'RateCodeID', 'store_and_fwd_flag',\n",
       "       'dropoff_longitude', 'dropoff_latitude', 'payment_type', 'fare_amount',\n",
       "       'extra', 'mta_tax', 'tip_amount', 'tolls_amount',\n",
       "       'improvement_surcharge', 'total_amount', 'pickup_hour', 'pickup_day',\n",
       "       'pickup_month', 'dropoff_hour', 'dropoff_day', 'dropoff_month'],\n",
       "      dtype='object')"
      ]
     },
     "execution_count": 7,
     "metadata": {},
     "output_type": "execute_result"
    }
   ],
   "source": [
    "data.columns"
   ]
  },
  {
   "cell_type": "code",
   "execution_count": 8,
   "metadata": {
    "execution": {
     "iopub.execute_input": "2024-01-04T12:42:31.681769Z",
     "iopub.status.busy": "2024-01-04T12:42:31.681314Z",
     "iopub.status.idle": "2024-01-04T12:42:31.689548Z",
     "shell.execute_reply": "2024-01-04T12:42:31.688151Z",
     "shell.execute_reply.started": "2024-01-04T12:42:31.681725Z"
    }
   },
   "outputs": [
    {
     "data": {
      "text/plain": [
       "(12748986, 23)"
      ]
     },
     "execution_count": 8,
     "metadata": {},
     "output_type": "execute_result"
    }
   ],
   "source": [
    "data.shape"
   ]
  },
  {
   "cell_type": "code",
   "execution_count": 33,
   "metadata": {
    "execution": {
     "iopub.execute_input": "2024-01-04T12:45:49.367069Z",
     "iopub.status.busy": "2024-01-04T12:45:49.366665Z",
     "iopub.status.idle": "2024-01-04T12:45:49.374680Z",
     "shell.execute_reply": "2024-01-04T12:45:49.373650Z",
     "shell.execute_reply.started": "2024-01-04T12:45:49.367038Z"
    }
   },
   "outputs": [
    {
     "data": {
      "text/plain": [
       "19"
      ]
     },
     "execution_count": 33,
     "metadata": {},
     "output_type": "execute_result"
    }
   ],
   "source": [
    "# Select all features for clustering\n",
    "features_for_clustering = ['pickup_longitude', 'pickup_latitude', 'dropoff_longitude', 'dropoff_latitude', \n",
    "                               'passenger_count', 'trip_distance', 'fare_amount', 'extra', 'mta_tax', \n",
    "                               'tip_amount', 'tolls_amount', 'improvement_surcharge', 'total_amount', 'pickup_hour', 'pickup_day',\n",
    "       'pickup_month', 'dropoff_hour', 'dropoff_day', 'dropoff_month']\n",
    "len(features_for_clustering)"
   ]
  },
  {
   "cell_type": "code",
   "execution_count": 11,
   "metadata": {
    "execution": {
     "iopub.execute_input": "2024-01-04T13:30:51.348113Z",
     "iopub.status.busy": "2024-01-04T13:30:51.347619Z",
     "iopub.status.idle": "2024-01-04T13:49:15.093728Z",
     "shell.execute_reply": "2024-01-04T13:49:15.092012Z",
     "shell.execute_reply.started": "2024-01-04T13:30:51.348076Z"
    }
   },
   "outputs": [
    {
     "name": "stdout",
     "output_type": "stream",
     "text": [
      "Training for No of Clusters- 2 completed!!\n",
      "Training for No of Clusters- 3 completed!!\n",
      "Training for No of Clusters- 4 completed!!\n",
      "Training for No of Clusters- 5 completed!!\n",
      "Training for No of Clusters- 6 completed!!\n",
      "Training for No of Clusters- 7 completed!!\n",
      "Training for No of Clusters- 8 completed!!\n",
      "Training for No of Clusters- 9 completed!!\n",
      "Training for No of Clusters- 10 completed!!\n"
     ]
    }
   ],
   "source": [
    "from sklearn.cluster import MiniBatchKMeans\n",
    "from sklearn.metrics import silhouette_score\n",
    "import numpy as np\n",
    "import pandas as pd\n",
    "\n",
    "# Deciding no of clusters upon 10Lakhs Sample\n",
    "X = data[features_for_clustering].sample(100000)\n",
    "\n",
    "# Assuming 'data' is your pre-processed DataFrame\n",
    "n_samples = len(X)\n",
    "n_clusters_range = range(2, 11)  # Number of clusters range from 2 to 10\n",
    "\n",
    "# Specify the number of chunks\n",
    "n_chunks = 10\n",
    "chunk_size = n_samples // n_chunks\n",
    "\n",
    "# Placeholder for silhouette scores\n",
    "silhouette_scores = []\n",
    "inertia = []\n",
    "\n",
    "# Loop through different cluster numbers\n",
    "for n_clusters in n_clusters_range:\n",
    "    # Initialize MiniBatchKMeans\n",
    "    mbkmeans = MiniBatchKMeans(n_clusters=n_clusters, random_state=42, n_init='auto', batch_size=chunk_size)\n",
    "    \n",
    "    # Loop through chunks\n",
    "    for i in range(0,len(X),chunk_size):\n",
    "        \n",
    "        # Extract the chunk\n",
    "        chunked_data = X[i:i+chunk_size]\n",
    "        \n",
    "        # Partially fit the model on the chunk\n",
    "        mbkmeans.partial_fit(chunked_data)\n",
    "    \n",
    "    # For remaining chunk\n",
    "    if len(X) % chunk_size != 0:\n",
    "        chunk_remaining = X[-(len(X) % chunk_size):]\n",
    "\n",
    "        mbkmeans.partial_fit(chunk_remaining)\n",
    "\n",
    "\n",
    "    # Predict clusters for all data points\n",
    "    labels = mbkmeans.predict(X)\n",
    "    \n",
    "    # Inertia\n",
    "    inertia.append(mbkmeans.inertia_)\n",
    "    # Calculate silhouette score\n",
    "    silhouette = silhouette_score(X, labels)\n",
    "    silhouette_scores.append(silhouette)\n",
    "    print(f\"Training for No of Clusters- {n_clusters} completed!!\")"
   ]
  },
  {
   "cell_type": "code",
   "execution_count": 12,
   "metadata": {
    "execution": {
     "iopub.execute_input": "2024-01-04T13:49:15.096785Z",
     "iopub.status.busy": "2024-01-04T13:49:15.096353Z",
     "iopub.status.idle": "2024-01-04T13:49:15.431076Z",
     "shell.execute_reply": "2024-01-04T13:49:15.429788Z",
     "shell.execute_reply.started": "2024-01-04T13:49:15.096748Z"
    }
   },
   "outputs": [
    {
     "data": {
      "image/png": "[encoded data removed]",
      "text/plain": [
       "<Figure size 432x288 with 1 Axes>"
      ]
     },
     "metadata": {
      "needs_background": "light"
     },
     "output_type": "display_data"
    }
   ],
   "source": [
    "import matplotlib.pyplot as plt\n",
    "\n",
    "# Plot the silhouette scores\n",
    "plt.plot(n_clusters_range, silhouette_scores, marker='o')\n",
    "plt.xlabel('Number of Clusters')\n",
    "plt.ylabel('Silhouette Score')\n",
    "plt.title('Silhouette Score for Different Numbers of Clusters')\n",
    "plt.show()"
   ]
  },
  {
   "cell_type": "markdown",
   "metadata": {},
   "source": [
    "* As per silhouette, No of Clusters = 2"
   ]
  },
  {
   "cell_type": "code",
   "execution_count": 13,
   "metadata": {
    "execution": {
     "iopub.execute_input": "2024-01-04T13:49:30.858579Z",
     "iopub.status.busy": "2024-01-04T13:49:30.858125Z",
     "iopub.status.idle": "2024-01-04T13:49:31.184082Z",
     "shell.execute_reply": "2024-01-04T13:49:31.182764Z",
     "shell.execute_reply.started": "2024-01-04T13:49:30.858540Z"
    }
   },
   "outputs": [
    {
     "data": {
      "image/png": "[encoded data removed]",
      "text/plain": [
       "<Figure size 432x288 with 1 Axes>"
      ]
     },
     "metadata": {
      "needs_background": "light"
     },
     "output_type": "display_data"
    }
   ],
   "source": [
    "# Plot inertia vs No Of centroids\n",
    "plt.plot(n_clusters_range, inertia, marker='o')\n",
    "plt.xlabel('Number of Clusters')\n",
    "plt.ylabel('Inertia')\n",
    "plt.title('Inertia for Different Numbers of Clusters')\n",
    "plt.show()"
   ]
  },
  {
   "cell_type": "markdown",
   "metadata": {},
   "source": [
    "* As per Elbow method no of cluster: 5"
   ]
  },
  {
   "cell_type": "code",
   "execution_count": 14,
   "metadata": {
    "execution": {
     "iopub.execute_input": "2024-01-04T13:50:11.603782Z",
     "iopub.status.busy": "2024-01-04T13:50:11.602899Z",
     "iopub.status.idle": "2024-01-04T13:50:11.611145Z",
     "shell.execute_reply": "2024-01-04T13:50:11.609973Z",
     "shell.execute_reply.started": "2024-01-04T13:50:11.603740Z"
    }
   },
   "outputs": [
    {
     "data": {
      "text/plain": [
       "[1356997.0956211693,\n",
       " 1073648.172909503,\n",
       " 806299.447416535,\n",
       " 629848.5543910859,\n",
       " 576066.5652248835,\n",
       " 526952.5511846147,\n",
       " 453211.4643678996,\n",
       " 417022.35708960483,\n",
       " 387825.0102062338]"
      ]
     },
     "execution_count": 14,
     "metadata": {},
     "output_type": "execute_result"
    }
   ],
   "source": [
    "inertia"
   ]
  },
  {
   "cell_type": "code",
   "execution_count": 15,
   "metadata": {
    "execution": {
     "iopub.execute_input": "2024-01-04T13:50:37.854083Z",
     "iopub.status.busy": "2024-01-04T13:50:37.853638Z",
     "iopub.status.idle": "2024-01-04T13:50:37.863409Z",
     "shell.execute_reply": "2024-01-04T13:50:37.861849Z",
     "shell.execute_reply.started": "2024-01-04T13:50:37.854051Z"
    }
   },
   "outputs": [
    {
     "data": {
      "text/plain": [
       "[0.39326217215895876,\n",
       " 0.3149392427193177,\n",
       " 0.31811401019970087,\n",
       " 0.3278405990554825,\n",
       " 0.30904396810688606,\n",
       " 0.29223757224458796,\n",
       " 0.3156355799634736,\n",
       " 0.2933232475791645,\n",
       " 0.2928785542685472]"
      ]
     },
     "execution_count": 15,
     "metadata": {},
     "output_type": "execute_result"
    }
   ],
   "source": [
    "silhouette_scores"
   ]
  },
  {
   "cell_type": "code",
   "execution_count": 34,
   "metadata": {
    "execution": {
     "iopub.execute_input": "2024-01-04T14:01:46.788185Z",
     "iopub.status.busy": "2024-01-04T14:01:46.787767Z",
     "iopub.status.idle": "2024-01-04T14:01:52.938236Z",
     "shell.execute_reply": "2024-01-04T14:01:52.937087Z",
     "shell.execute_reply.started": "2024-01-04T14:01:46.788154Z"
    }
   },
   "outputs": [
    {
     "name": "stdout",
     "output_type": "stream",
     "text": [
      "Time-Taken: 32.09390664100647\n"
     ]
    }
   ],
   "source": [
    "import time\n",
    "# Taking optimal no of clusters as 5\n",
    "\n",
    "start = time.time()\n",
    "X = data[features_for_clustering]\n",
    "\n",
    "n_samples = len(X)\n",
    "\n",
    "# Specify the number of chunks\n",
    "n_chunks = 10\n",
    "chunk_size = n_samples // n_chunks\n",
    "\n",
    "# Initialize MiniBatchKMeans\n",
    "mbkmeans = MiniBatchKMeans(n_clusters=5, random_state=42, n_init='auto', batch_size=chunk_size)\n",
    "\n",
    "# Loop through chunks\n",
    "for i in range(n_chunks):\n",
    "    # Determine start and end index for the chunk\n",
    "    for i in range(0,n_samples,chunk_size):\n",
    "        \n",
    "        # Extract the chunk\n",
    "        chunked_data = X[i:i+chunk_size]\n",
    "        \n",
    "        # Partially fit the model on the chunk\n",
    "        mbkmeans.partial_fit(chunked_data)\n",
    "    \n",
    "    # For remaining chunk\n",
    "    if len(X) % chunk_size != 0:\n",
    "        chunk_remaining = X[-(len(X) % chunk_size):]\n",
    "\n",
    "        mbkmeans.partial_fit(chunk_remaining)\n",
    "\n",
    "\n",
    "# Predict clusters for all data points\n",
    "data['labels'] = mbkmeans.predict(X)\n",
    "\n",
    "end= time.time() \n",
    "print('Time-Taken:', end - start)"
   ]
  },
  {
   "cell_type": "code",
   "execution_count": 35,
   "metadata": {
    "execution": {
     "iopub.execute_input": "2024-01-04T14:01:53.448780Z",
     "iopub.status.busy": "2024-01-04T14:01:53.448309Z",
     "iopub.status.idle": "2024-01-04T14:01:53.526780Z",
     "shell.execute_reply": "2024-01-04T14:01:53.525444Z",
     "shell.execute_reply.started": "2024-01-04T14:01:53.448744Z"
    }
   },
   "outputs": [
    {
     "data": {
      "text/plain": [
       "0    3278062\n",
       "2    2952249\n",
       "4    2404194\n",
       "1    2070182\n",
       "3    2044296\n",
       "Name: labels, dtype: int64"
      ]
     },
     "execution_count": 35,
     "metadata": {},
     "output_type": "execute_result"
    }
   ],
   "source": [
    "data['labels'].value_counts()"
   ]
  },
  {
   "cell_type": "code",
   "execution_count": 36,
   "metadata": {},
   "outputs": [
    {
     "name": "stdout",
     "output_type": "stream",
     "text": [
      "Time taken: 74.66544842720032\n"
     ]
    }
   ],
   "source": [
    "from sklearn.cluster import KMeans\n",
    "\n",
    "X = data[features_for_clustering]\n",
    "\n",
    "start = time.time()\n",
    "\n",
    "kmeans = KMeans(n_init = 10, n_clusters = 5)\n",
    "kmeans.fit(X)\n",
    "\n",
    "# Predict clusters for all data points\n",
    "data['labels'] = mbkmeans.predict(X)\n",
    "\n",
    "end= time.time() \n",
    "print('Time-Taken:', end - start)"
   ]
  },
  {
   "cell_type": "code",
   "execution_count": null,
   "metadata": {},
   "outputs": [],
   "source": []
  }
 ],
 "metadata": {
  "kaggle": {
   "accelerator": "none",
   "dataSources": [
    {
     "datasetId": 1777799,
     "sourceId": 2905525,
     "sourceType": "datasetVersion"
    }
   ],
   "dockerImageVersionId": 30626,
   "isGpuEnabled": false,
   "isInternetEnabled": true,
   "language": "python",
   "sourceType": "notebook"
  },
  "kernelspec": {
   "display_name": "Python 3 (ipykernel)",
   "language": "python",
   "name": "python3"
  },
  "language_info": {
   "codemirror_mode": {
    "name": "ipython",
    "version": 3
   },
   "file_extension": ".py",
   "mimetype": "text/x-python",
   "name": "python",
   "nbconvert_exporter": "python",
   "pygments_lexer": "ipython3",
   "version": "3.9.12"
  }
 },
 "nbformat": 4,
 "nbformat_minor": 4
}
